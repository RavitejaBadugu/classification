{
 "cells": [
  {
   "cell_type": "code",
   "execution_count": 4,
   "metadata": {},
   "outputs": [],
   "source": [
    "import numpy as np\n",
    "import pandas as pd\n",
    "import matplotlib.pyplot as plt\n",
    "import seaborn as sn\n",
    "%matplotlib inline"
   ]
  },
  {
   "cell_type": "code",
   "execution_count": 5,
   "metadata": {},
   "outputs": [],
   "source": [
    "df=pd.read_csv(\"D:/kaggle/competitions/cat-in-the-dat/train.csv\")"
   ]
  },
  {
   "cell_type": "code",
   "execution_count": 6,
   "metadata": {},
   "outputs": [
    {
     "name": "stdout",
     "output_type": "stream",
     "text": [
      "<class 'pandas.core.frame.DataFrame'>\n",
      "RangeIndex: 300000 entries, 0 to 299999\n",
      "Data columns (total 25 columns):\n",
      " #   Column  Non-Null Count   Dtype \n",
      "---  ------  --------------   ----- \n",
      " 0   id      300000 non-null  int64 \n",
      " 1   bin_0   300000 non-null  int64 \n",
      " 2   bin_1   300000 non-null  int64 \n",
      " 3   bin_2   300000 non-null  int64 \n",
      " 4   bin_3   300000 non-null  object\n",
      " 5   bin_4   300000 non-null  object\n",
      " 6   nom_0   300000 non-null  object\n",
      " 7   nom_1   300000 non-null  object\n",
      " 8   nom_2   300000 non-null  object\n",
      " 9   nom_3   300000 non-null  object\n",
      " 10  nom_4   300000 non-null  object\n",
      " 11  nom_5   300000 non-null  object\n",
      " 12  nom_6   300000 non-null  object\n",
      " 13  nom_7   300000 non-null  object\n",
      " 14  nom_8   300000 non-null  object\n",
      " 15  nom_9   300000 non-null  object\n",
      " 16  ord_0   300000 non-null  int64 \n",
      " 17  ord_1   300000 non-null  object\n",
      " 18  ord_2   300000 non-null  object\n",
      " 19  ord_3   300000 non-null  object\n",
      " 20  ord_4   300000 non-null  object\n",
      " 21  ord_5   300000 non-null  object\n",
      " 22  day     300000 non-null  int64 \n",
      " 23  month   300000 non-null  int64 \n",
      " 24  target  300000 non-null  int64 \n",
      "dtypes: int64(8), object(17)\n",
      "memory usage: 57.2+ MB\n"
     ]
    }
   ],
   "source": [
    "df.info()"
   ]
  },
  {
   "cell_type": "code",
   "execution_count": 7,
   "metadata": {},
   "outputs": [],
   "source": [
    "pd.options.display.max_columns=30"
   ]
  },
  {
   "cell_type": "code",
   "execution_count": 8,
   "metadata": {},
   "outputs": [
    {
     "data": {
      "text/html": [
       "<div>\n",
       "<style scoped>\n",
       "    .dataframe tbody tr th:only-of-type {\n",
       "        vertical-align: middle;\n",
       "    }\n",
       "\n",
       "    .dataframe tbody tr th {\n",
       "        vertical-align: top;\n",
       "    }\n",
       "\n",
       "    .dataframe thead th {\n",
       "        text-align: right;\n",
       "    }\n",
       "</style>\n",
       "<table border=\"1\" class=\"dataframe\">\n",
       "  <thead>\n",
       "    <tr style=\"text-align: right;\">\n",
       "      <th></th>\n",
       "      <th>id</th>\n",
       "      <th>bin_0</th>\n",
       "      <th>bin_1</th>\n",
       "      <th>bin_2</th>\n",
       "      <th>bin_3</th>\n",
       "      <th>bin_4</th>\n",
       "      <th>nom_0</th>\n",
       "      <th>nom_1</th>\n",
       "      <th>nom_2</th>\n",
       "      <th>nom_3</th>\n",
       "      <th>nom_4</th>\n",
       "      <th>nom_5</th>\n",
       "      <th>nom_6</th>\n",
       "      <th>nom_7</th>\n",
       "      <th>nom_8</th>\n",
       "      <th>nom_9</th>\n",
       "      <th>ord_0</th>\n",
       "      <th>ord_1</th>\n",
       "      <th>ord_2</th>\n",
       "      <th>ord_3</th>\n",
       "      <th>ord_4</th>\n",
       "      <th>ord_5</th>\n",
       "      <th>day</th>\n",
       "      <th>month</th>\n",
       "      <th>target</th>\n",
       "    </tr>\n",
       "  </thead>\n",
       "  <tbody>\n",
       "    <tr>\n",
       "      <th>0</th>\n",
       "      <td>0</td>\n",
       "      <td>0</td>\n",
       "      <td>0</td>\n",
       "      <td>0</td>\n",
       "      <td>T</td>\n",
       "      <td>Y</td>\n",
       "      <td>Green</td>\n",
       "      <td>Triangle</td>\n",
       "      <td>Snake</td>\n",
       "      <td>Finland</td>\n",
       "      <td>Bassoon</td>\n",
       "      <td>50f116bcf</td>\n",
       "      <td>3ac1b8814</td>\n",
       "      <td>68f6ad3e9</td>\n",
       "      <td>c389000ab</td>\n",
       "      <td>2f4cb3d51</td>\n",
       "      <td>2</td>\n",
       "      <td>Grandmaster</td>\n",
       "      <td>Cold</td>\n",
       "      <td>h</td>\n",
       "      <td>D</td>\n",
       "      <td>kr</td>\n",
       "      <td>2</td>\n",
       "      <td>2</td>\n",
       "      <td>0</td>\n",
       "    </tr>\n",
       "    <tr>\n",
       "      <th>1</th>\n",
       "      <td>1</td>\n",
       "      <td>0</td>\n",
       "      <td>1</td>\n",
       "      <td>0</td>\n",
       "      <td>T</td>\n",
       "      <td>Y</td>\n",
       "      <td>Green</td>\n",
       "      <td>Trapezoid</td>\n",
       "      <td>Hamster</td>\n",
       "      <td>Russia</td>\n",
       "      <td>Piano</td>\n",
       "      <td>b3b4d25d0</td>\n",
       "      <td>fbcb50fc1</td>\n",
       "      <td>3b6dd5612</td>\n",
       "      <td>4cd920251</td>\n",
       "      <td>f83c56c21</td>\n",
       "      <td>1</td>\n",
       "      <td>Grandmaster</td>\n",
       "      <td>Hot</td>\n",
       "      <td>a</td>\n",
       "      <td>A</td>\n",
       "      <td>bF</td>\n",
       "      <td>7</td>\n",
       "      <td>8</td>\n",
       "      <td>0</td>\n",
       "    </tr>\n",
       "    <tr>\n",
       "      <th>2</th>\n",
       "      <td>2</td>\n",
       "      <td>0</td>\n",
       "      <td>0</td>\n",
       "      <td>0</td>\n",
       "      <td>F</td>\n",
       "      <td>Y</td>\n",
       "      <td>Blue</td>\n",
       "      <td>Trapezoid</td>\n",
       "      <td>Lion</td>\n",
       "      <td>Russia</td>\n",
       "      <td>Theremin</td>\n",
       "      <td>3263bdce5</td>\n",
       "      <td>0922e3cb8</td>\n",
       "      <td>a6a36f527</td>\n",
       "      <td>de9c9f684</td>\n",
       "      <td>ae6800dd0</td>\n",
       "      <td>1</td>\n",
       "      <td>Expert</td>\n",
       "      <td>Lava Hot</td>\n",
       "      <td>h</td>\n",
       "      <td>R</td>\n",
       "      <td>Jc</td>\n",
       "      <td>7</td>\n",
       "      <td>2</td>\n",
       "      <td>0</td>\n",
       "    </tr>\n",
       "    <tr>\n",
       "      <th>3</th>\n",
       "      <td>3</td>\n",
       "      <td>0</td>\n",
       "      <td>1</td>\n",
       "      <td>0</td>\n",
       "      <td>F</td>\n",
       "      <td>Y</td>\n",
       "      <td>Red</td>\n",
       "      <td>Trapezoid</td>\n",
       "      <td>Snake</td>\n",
       "      <td>Canada</td>\n",
       "      <td>Oboe</td>\n",
       "      <td>f12246592</td>\n",
       "      <td>50d7ad46a</td>\n",
       "      <td>ec69236eb</td>\n",
       "      <td>4ade6ab69</td>\n",
       "      <td>8270f0d71</td>\n",
       "      <td>1</td>\n",
       "      <td>Grandmaster</td>\n",
       "      <td>Boiling Hot</td>\n",
       "      <td>i</td>\n",
       "      <td>D</td>\n",
       "      <td>kW</td>\n",
       "      <td>2</td>\n",
       "      <td>1</td>\n",
       "      <td>1</td>\n",
       "    </tr>\n",
       "    <tr>\n",
       "      <th>4</th>\n",
       "      <td>4</td>\n",
       "      <td>0</td>\n",
       "      <td>0</td>\n",
       "      <td>0</td>\n",
       "      <td>F</td>\n",
       "      <td>N</td>\n",
       "      <td>Red</td>\n",
       "      <td>Trapezoid</td>\n",
       "      <td>Lion</td>\n",
       "      <td>Canada</td>\n",
       "      <td>Oboe</td>\n",
       "      <td>5b0f5acd5</td>\n",
       "      <td>1fe17a1fd</td>\n",
       "      <td>04ddac2be</td>\n",
       "      <td>cb43ab175</td>\n",
       "      <td>b164b72a7</td>\n",
       "      <td>1</td>\n",
       "      <td>Grandmaster</td>\n",
       "      <td>Freezing</td>\n",
       "      <td>a</td>\n",
       "      <td>R</td>\n",
       "      <td>qP</td>\n",
       "      <td>7</td>\n",
       "      <td>8</td>\n",
       "      <td>0</td>\n",
       "    </tr>\n",
       "  </tbody>\n",
       "</table>\n",
       "</div>"
      ],
      "text/plain": [
       "   id  bin_0  bin_1  bin_2 bin_3 bin_4  nom_0      nom_1    nom_2    nom_3  \\\n",
       "0   0      0      0      0     T     Y  Green   Triangle    Snake  Finland   \n",
       "1   1      0      1      0     T     Y  Green  Trapezoid  Hamster   Russia   \n",
       "2   2      0      0      0     F     Y   Blue  Trapezoid     Lion   Russia   \n",
       "3   3      0      1      0     F     Y    Red  Trapezoid    Snake   Canada   \n",
       "4   4      0      0      0     F     N    Red  Trapezoid     Lion   Canada   \n",
       "\n",
       "      nom_4      nom_5      nom_6      nom_7      nom_8      nom_9  ord_0  \\\n",
       "0   Bassoon  50f116bcf  3ac1b8814  68f6ad3e9  c389000ab  2f4cb3d51      2   \n",
       "1     Piano  b3b4d25d0  fbcb50fc1  3b6dd5612  4cd920251  f83c56c21      1   \n",
       "2  Theremin  3263bdce5  0922e3cb8  a6a36f527  de9c9f684  ae6800dd0      1   \n",
       "3      Oboe  f12246592  50d7ad46a  ec69236eb  4ade6ab69  8270f0d71      1   \n",
       "4      Oboe  5b0f5acd5  1fe17a1fd  04ddac2be  cb43ab175  b164b72a7      1   \n",
       "\n",
       "         ord_1        ord_2 ord_3 ord_4 ord_5  day  month  target  \n",
       "0  Grandmaster         Cold     h     D    kr    2      2       0  \n",
       "1  Grandmaster          Hot     a     A    bF    7      8       0  \n",
       "2       Expert     Lava Hot     h     R    Jc    7      2       0  \n",
       "3  Grandmaster  Boiling Hot     i     D    kW    2      1       1  \n",
       "4  Grandmaster     Freezing     a     R    qP    7      8       0  "
      ]
     },
     "execution_count": 8,
     "metadata": {},
     "output_type": "execute_result"
    }
   ],
   "source": [
    "df.head()"
   ]
  },
  {
   "cell_type": "code",
   "execution_count": 9,
   "metadata": {},
   "outputs": [
    {
     "data": {
      "text/plain": [
       "<matplotlib.axes._subplots.AxesSubplot at 0x1cb833cfc08>"
      ]
     },
     "execution_count": 9,
     "metadata": {},
     "output_type": "execute_result"
    },
    {
     "data": {
      "image/png": "[encoded data removed]",
      "text/plain": [
       "<Figure size 432x288 with 1 Axes>"
      ]
     },
     "metadata": {
      "needs_background": "light"
     },
     "output_type": "display_data"
    }
   ],
   "source": [
    "sn.barplot(y=list(df.columns),x=df.isna().sum())"
   ]
  },
  {
   "cell_type": "code",
   "execution_count": 10,
   "metadata": {},
   "outputs": [
    {
     "data": {
      "image/png": "[encoded data removed]",
      "text/plain": [
       "<Figure size 864x864 with 4 Axes>"
      ]
     },
     "metadata": {
      "needs_background": "light"
     },
     "output_type": "display_data"
    }
   ],
   "source": [
    "cols=list(df.columns)[1:5]\n",
    "plt.subplots(nrows=2,ncols=2,figsize=(12,12))\n",
    "k=1\n",
    "for i in range(2):\n",
    "    for j in range(2):\n",
    "        plt.subplot(2,2,k)\n",
    "        sn.countplot(df[cols[i+j]],hue=df['target'])\n",
    "        plt.xlabel(cols[i+j])\n",
    "        plt.ylabel('target')\n",
    "        k+=1"
   ]
  },
  {
   "cell_type": "code",
   "execution_count": 11,
   "metadata": {},
   "outputs": [
    {
     "data": {
      "text/plain": [
       "<matplotlib.axes._subplots.AxesSubplot at 0x1cb82ee8b88>"
      ]
     },
     "execution_count": 11,
     "metadata": {},
     "output_type": "execute_result"
    },
    {
     "data": {
      "image/png": "[encoded data removed]",
      "text/plain": [
       "<Figure size 432x288 with 1 Axes>"
      ]
     },
     "metadata": {
      "needs_background": "light"
     },
     "output_type": "display_data"
    }
   ],
   "source": [
    "sn.countplot(df.target,)"
   ]
  },
  {
   "cell_type": "code",
   "execution_count": 12,
   "metadata": {},
   "outputs": [
    {
     "name": "stdout",
     "output_type": "stream",
     "text": [
      "% of 1 in target is 30.587999999999997 and % of 0 in target is 69.41199999999999\n"
     ]
    }
   ],
   "source": [
    "print(f\"% of 1 in target is {(np.sum(df.target)/df.shape[0])*100} and % of 0 in target is {(np.sum(1-df.target)/df.shape[0])*100}\")"
   ]
  },
  {
   "cell_type": "markdown",
   "metadata": {},
   "source": [
    "It's imbalance."
   ]
  },
  {
   "cell_type": "code",
   "execution_count": 13,
   "metadata": {},
   "outputs": [],
   "source": [
    "from sklearn.model_selection import KFold,GridSearchCV"
   ]
  },
  {
   "cell_type": "code",
   "execution_count": 14,
   "metadata": {},
   "outputs": [],
   "source": [
    "from sklearn.preprocessing import LabelEncoder,MinMaxScaler,OrdinalEncoder,OneHotEncoder"
   ]
  },
  {
   "cell_type": "code",
   "execution_count": 15,
   "metadata": {},
   "outputs": [],
   "source": [
    "labenc=LabelEncoder()"
   ]
  },
  {
   "cell_type": "code",
   "execution_count": 16,
   "metadata": {},
   "outputs": [],
   "source": [
    "df['bin_3']=df['bin_3'].map({'T':1,'F':0})\n",
    "df['bin_4']=df['bin_4'].map({'Y':1,'N':0})"
   ]
  },
  {
   "cell_type": "code",
   "execution_count": 17,
   "metadata": {},
   "outputs": [
    {
     "data": {
      "text/plain": [
       "array(['Grandmaster', 'Expert', 'Novice', 'Contributor', 'Master'],\n",
       "      dtype=object)"
      ]
     },
     "execution_count": 17,
     "metadata": {},
     "output_type": "execute_result"
    }
   ],
   "source": [
    "df['ord_1'].unique()"
   ]
  },
  {
   "cell_type": "code",
   "execution_count": 18,
   "metadata": {},
   "outputs": [],
   "source": [
    "ord_en=OrdinalEncoder()"
   ]
  },
  {
   "cell_type": "code",
   "execution_count": 19,
   "metadata": {},
   "outputs": [],
   "source": [
    "df['ord_1']=df['ord_1'].map({'Grandmaster':5,'Master':4,'Expert':3,'Contributor':2,'Novice':1})"
   ]
  },
  {
   "cell_type": "code",
   "execution_count": 20,
   "metadata": {},
   "outputs": [],
   "source": [
    "ord_2=OrdinalEncoder()\n",
    "ord_3=OrdinalEncoder()\n",
    "ord_4=OrdinalEncoder()\n",
    "ord_5=OrdinalEncoder()"
   ]
  },
  {
   "cell_type": "code",
   "execution_count": 21,
   "metadata": {},
   "outputs": [],
   "source": [
    "df['ord_2']=ord_2.fit_transform(df[['ord_2']])"
   ]
  },
  {
   "cell_type": "code",
   "execution_count": 22,
   "metadata": {},
   "outputs": [],
   "source": [
    "df['ord_3']=ord_3.fit_transform(df[['ord_3']])"
   ]
  },
  {
   "cell_type": "code",
   "execution_count": 23,
   "metadata": {},
   "outputs": [],
   "source": [
    "df['ord_4']=ord_4.fit_transform(df[['ord_4']])\n",
    "df['ord_5']=ord_5.fit_transform(df[['ord_5']])"
   ]
  },
  {
   "cell_type": "code",
   "execution_count": 24,
   "metadata": {},
   "outputs": [
    {
     "data": {
      "text/plain": [
       "array([ 2,  8,  1,  4, 10,  3,  7,  9, 12, 11,  5,  6], dtype=int64)"
      ]
     },
     "execution_count": 24,
     "metadata": {},
     "output_type": "execute_result"
    }
   ],
   "source": [
    "df['month'].unique()"
   ]
  },
  {
   "cell_type": "code",
   "execution_count": 25,
   "metadata": {},
   "outputs": [],
   "source": [
    "df['sin_month']=df['month'].apply(lambda x: np.sin(2*np.pi*(x-1)/11))\n",
    "df['cos_month']=df['month'].apply(lambda x: np.cos(2*np.pi*(x-1)/11))"
   ]
  },
  {
   "cell_type": "code",
   "execution_count": 26,
   "metadata": {},
   "outputs": [],
   "source": [
    "df.drop('month',axis=1,inplace=True)"
   ]
  },
  {
   "cell_type": "code",
   "execution_count": 27,
   "metadata": {},
   "outputs": [
    {
     "data": {
      "text/plain": [
       "array([2, 7, 5, 4, 3, 1, 6], dtype=int64)"
      ]
     },
     "execution_count": 27,
     "metadata": {},
     "output_type": "execute_result"
    }
   ],
   "source": [
    "df['day'].unique()"
   ]
  },
  {
   "cell_type": "code",
   "execution_count": 28,
   "metadata": {},
   "outputs": [
    {
     "data": {
      "text/plain": [
       "<matplotlib.axes._subplots.AxesSubplot at 0x1cb82f33f08>"
      ]
     },
     "execution_count": 28,
     "metadata": {},
     "output_type": "execute_result"
    },
    {
     "data": {
      "image/png": "[encoded data removed]",
      "text/plain": [
       "<Figure size 432x288 with 1 Axes>"
      ]
     },
     "metadata": {
      "needs_background": "light"
     },
     "output_type": "display_data"
    }
   ],
   "source": [
    "sn.countplot(df['day'],hue=df['target'])"
   ]
  },
  {
   "cell_type": "code",
   "execution_count": 29,
   "metadata": {},
   "outputs": [],
   "source": [
    "df['sin_day']=df['day'].apply(lambda x: np.sin(2*np.pi*(x-1)/30))\n",
    "df['cos_day']=df['day'].apply(lambda x: np.cos(2*np.pi*(x-1)/30))"
   ]
  },
  {
   "cell_type": "code",
   "execution_count": 30,
   "metadata": {},
   "outputs": [],
   "source": [
    "df.drop('day',axis=1,inplace=True\n",
    "       )"
   ]
  },
  {
   "cell_type": "code",
   "execution_count": 31,
   "metadata": {},
   "outputs": [],
   "source": [
    "nom_en=OneHotEncoder(sparse=False,drop='first')"
   ]
  },
  {
   "cell_type": "code",
   "execution_count": 32,
   "metadata": {},
   "outputs": [],
   "source": [
    "a=pd.get_dummies(df,columns=['nom_0','nom_1','nom_2','nom_3','nom_4'],drop_first=True)"
   ]
  },
  {
   "cell_type": "code",
   "execution_count": 33,
   "metadata": {},
   "outputs": [],
   "source": [
    "nom_0_unique=list(df['nom_0'].unique())\n",
    "nom_1_unique=list(df['nom_1'].unique())\n",
    "nom_2_unique=list(df['nom_2'].unique())\n",
    "nom_3_unique=list(df['nom_3'].unique())\n",
    "nom_4_unique=list(df['nom_4'].unique())"
   ]
  },
  {
   "cell_type": "code",
   "execution_count": 34,
   "metadata": {},
   "outputs": [
    {
     "data": {
      "text/plain": [
       "['Finland', 'Russia', 'Canada', 'Costa Rica', 'China', 'India']"
      ]
     },
     "execution_count": 34,
     "metadata": {},
     "output_type": "execute_result"
    }
   ],
   "source": [
    "nom_3_unique"
   ]
  },
  {
   "cell_type": "code",
   "execution_count": 35,
   "metadata": {},
   "outputs": [
    {
     "data": {
      "text/html": [
       "<div>\n",
       "<style scoped>\n",
       "    .dataframe tbody tr th:only-of-type {\n",
       "        vertical-align: middle;\n",
       "    }\n",
       "\n",
       "    .dataframe tbody tr th {\n",
       "        vertical-align: top;\n",
       "    }\n",
       "\n",
       "    .dataframe thead th {\n",
       "        text-align: right;\n",
       "    }\n",
       "</style>\n",
       "<table border=\"1\" class=\"dataframe\">\n",
       "  <thead>\n",
       "    <tr style=\"text-align: right;\">\n",
       "      <th></th>\n",
       "      <th>id</th>\n",
       "      <th>bin_0</th>\n",
       "      <th>bin_1</th>\n",
       "      <th>bin_2</th>\n",
       "      <th>bin_3</th>\n",
       "      <th>bin_4</th>\n",
       "      <th>nom_5</th>\n",
       "      <th>nom_6</th>\n",
       "      <th>nom_7</th>\n",
       "      <th>nom_8</th>\n",
       "      <th>nom_9</th>\n",
       "      <th>ord_0</th>\n",
       "      <th>ord_1</th>\n",
       "      <th>ord_2</th>\n",
       "      <th>ord_3</th>\n",
       "      <th>...</th>\n",
       "      <th>nom_1_Trapezoid</th>\n",
       "      <th>nom_1_Triangle</th>\n",
       "      <th>nom_2_Cat</th>\n",
       "      <th>nom_2_Dog</th>\n",
       "      <th>nom_2_Hamster</th>\n",
       "      <th>nom_2_Lion</th>\n",
       "      <th>nom_2_Snake</th>\n",
       "      <th>nom_3_China</th>\n",
       "      <th>nom_3_Costa Rica</th>\n",
       "      <th>nom_3_Finland</th>\n",
       "      <th>nom_3_India</th>\n",
       "      <th>nom_3_Russia</th>\n",
       "      <th>nom_4_Oboe</th>\n",
       "      <th>nom_4_Piano</th>\n",
       "      <th>nom_4_Theremin</th>\n",
       "    </tr>\n",
       "  </thead>\n",
       "  <tbody>\n",
       "    <tr>\n",
       "      <th>0</th>\n",
       "      <td>0</td>\n",
       "      <td>0</td>\n",
       "      <td>0</td>\n",
       "      <td>0</td>\n",
       "      <td>1</td>\n",
       "      <td>1</td>\n",
       "      <td>50f116bcf</td>\n",
       "      <td>3ac1b8814</td>\n",
       "      <td>68f6ad3e9</td>\n",
       "      <td>c389000ab</td>\n",
       "      <td>2f4cb3d51</td>\n",
       "      <td>2</td>\n",
       "      <td>5</td>\n",
       "      <td>1.0</td>\n",
       "      <td>7.0</td>\n",
       "      <td>...</td>\n",
       "      <td>0</td>\n",
       "      <td>1</td>\n",
       "      <td>0</td>\n",
       "      <td>0</td>\n",
       "      <td>0</td>\n",
       "      <td>0</td>\n",
       "      <td>1</td>\n",
       "      <td>0</td>\n",
       "      <td>0</td>\n",
       "      <td>1</td>\n",
       "      <td>0</td>\n",
       "      <td>0</td>\n",
       "      <td>0</td>\n",
       "      <td>0</td>\n",
       "      <td>0</td>\n",
       "    </tr>\n",
       "    <tr>\n",
       "      <th>1</th>\n",
       "      <td>1</td>\n",
       "      <td>0</td>\n",
       "      <td>1</td>\n",
       "      <td>0</td>\n",
       "      <td>1</td>\n",
       "      <td>1</td>\n",
       "      <td>b3b4d25d0</td>\n",
       "      <td>fbcb50fc1</td>\n",
       "      <td>3b6dd5612</td>\n",
       "      <td>4cd920251</td>\n",
       "      <td>f83c56c21</td>\n",
       "      <td>1</td>\n",
       "      <td>5</td>\n",
       "      <td>3.0</td>\n",
       "      <td>0.0</td>\n",
       "      <td>...</td>\n",
       "      <td>1</td>\n",
       "      <td>0</td>\n",
       "      <td>0</td>\n",
       "      <td>0</td>\n",
       "      <td>1</td>\n",
       "      <td>0</td>\n",
       "      <td>0</td>\n",
       "      <td>0</td>\n",
       "      <td>0</td>\n",
       "      <td>0</td>\n",
       "      <td>0</td>\n",
       "      <td>1</td>\n",
       "      <td>0</td>\n",
       "      <td>1</td>\n",
       "      <td>0</td>\n",
       "    </tr>\n",
       "    <tr>\n",
       "      <th>2</th>\n",
       "      <td>2</td>\n",
       "      <td>0</td>\n",
       "      <td>0</td>\n",
       "      <td>0</td>\n",
       "      <td>0</td>\n",
       "      <td>1</td>\n",
       "      <td>3263bdce5</td>\n",
       "      <td>0922e3cb8</td>\n",
       "      <td>a6a36f527</td>\n",
       "      <td>de9c9f684</td>\n",
       "      <td>ae6800dd0</td>\n",
       "      <td>1</td>\n",
       "      <td>3</td>\n",
       "      <td>4.0</td>\n",
       "      <td>7.0</td>\n",
       "      <td>...</td>\n",
       "      <td>1</td>\n",
       "      <td>0</td>\n",
       "      <td>0</td>\n",
       "      <td>0</td>\n",
       "      <td>0</td>\n",
       "      <td>1</td>\n",
       "      <td>0</td>\n",
       "      <td>0</td>\n",
       "      <td>0</td>\n",
       "      <td>0</td>\n",
       "      <td>0</td>\n",
       "      <td>1</td>\n",
       "      <td>0</td>\n",
       "      <td>0</td>\n",
       "      <td>1</td>\n",
       "    </tr>\n",
       "    <tr>\n",
       "      <th>3</th>\n",
       "      <td>3</td>\n",
       "      <td>0</td>\n",
       "      <td>1</td>\n",
       "      <td>0</td>\n",
       "      <td>0</td>\n",
       "      <td>1</td>\n",
       "      <td>f12246592</td>\n",
       "      <td>50d7ad46a</td>\n",
       "      <td>ec69236eb</td>\n",
       "      <td>4ade6ab69</td>\n",
       "      <td>8270f0d71</td>\n",
       "      <td>1</td>\n",
       "      <td>5</td>\n",
       "      <td>0.0</td>\n",
       "      <td>8.0</td>\n",
       "      <td>...</td>\n",
       "      <td>1</td>\n",
       "      <td>0</td>\n",
       "      <td>0</td>\n",
       "      <td>0</td>\n",
       "      <td>0</td>\n",
       "      <td>0</td>\n",
       "      <td>1</td>\n",
       "      <td>0</td>\n",
       "      <td>0</td>\n",
       "      <td>0</td>\n",
       "      <td>0</td>\n",
       "      <td>0</td>\n",
       "      <td>1</td>\n",
       "      <td>0</td>\n",
       "      <td>0</td>\n",
       "    </tr>\n",
       "    <tr>\n",
       "      <th>4</th>\n",
       "      <td>4</td>\n",
       "      <td>0</td>\n",
       "      <td>0</td>\n",
       "      <td>0</td>\n",
       "      <td>0</td>\n",
       "      <td>0</td>\n",
       "      <td>5b0f5acd5</td>\n",
       "      <td>1fe17a1fd</td>\n",
       "      <td>04ddac2be</td>\n",
       "      <td>cb43ab175</td>\n",
       "      <td>b164b72a7</td>\n",
       "      <td>1</td>\n",
       "      <td>5</td>\n",
       "      <td>2.0</td>\n",
       "      <td>0.0</td>\n",
       "      <td>...</td>\n",
       "      <td>1</td>\n",
       "      <td>0</td>\n",
       "      <td>0</td>\n",
       "      <td>0</td>\n",
       "      <td>0</td>\n",
       "      <td>1</td>\n",
       "      <td>0</td>\n",
       "      <td>0</td>\n",
       "      <td>0</td>\n",
       "      <td>0</td>\n",
       "      <td>0</td>\n",
       "      <td>0</td>\n",
       "      <td>1</td>\n",
       "      <td>0</td>\n",
       "      <td>0</td>\n",
       "    </tr>\n",
       "    <tr>\n",
       "      <th>...</th>\n",
       "      <td>...</td>\n",
       "      <td>...</td>\n",
       "      <td>...</td>\n",
       "      <td>...</td>\n",
       "      <td>...</td>\n",
       "      <td>...</td>\n",
       "      <td>...</td>\n",
       "      <td>...</td>\n",
       "      <td>...</td>\n",
       "      <td>...</td>\n",
       "      <td>...</td>\n",
       "      <td>...</td>\n",
       "      <td>...</td>\n",
       "      <td>...</td>\n",
       "      <td>...</td>\n",
       "      <td>...</td>\n",
       "      <td>...</td>\n",
       "      <td>...</td>\n",
       "      <td>...</td>\n",
       "      <td>...</td>\n",
       "      <td>...</td>\n",
       "      <td>...</td>\n",
       "      <td>...</td>\n",
       "      <td>...</td>\n",
       "      <td>...</td>\n",
       "      <td>...</td>\n",
       "      <td>...</td>\n",
       "      <td>...</td>\n",
       "      <td>...</td>\n",
       "      <td>...</td>\n",
       "      <td>...</td>\n",
       "    </tr>\n",
       "    <tr>\n",
       "      <th>299995</th>\n",
       "      <td>299995</td>\n",
       "      <td>0</td>\n",
       "      <td>0</td>\n",
       "      <td>0</td>\n",
       "      <td>1</td>\n",
       "      <td>0</td>\n",
       "      <td>35f65a9bf</td>\n",
       "      <td>788ba7aea</td>\n",
       "      <td>86a8e4ca0</td>\n",
       "      <td>7508f4ef1</td>\n",
       "      <td>e027decef</td>\n",
       "      <td>1</td>\n",
       "      <td>2</td>\n",
       "      <td>2.0</td>\n",
       "      <td>10.0</td>\n",
       "      <td>...</td>\n",
       "      <td>1</td>\n",
       "      <td>0</td>\n",
       "      <td>0</td>\n",
       "      <td>0</td>\n",
       "      <td>0</td>\n",
       "      <td>0</td>\n",
       "      <td>1</td>\n",
       "      <td>0</td>\n",
       "      <td>0</td>\n",
       "      <td>0</td>\n",
       "      <td>1</td>\n",
       "      <td>0</td>\n",
       "      <td>1</td>\n",
       "      <td>0</td>\n",
       "      <td>0</td>\n",
       "    </tr>\n",
       "    <tr>\n",
       "      <th>299996</th>\n",
       "      <td>299996</td>\n",
       "      <td>0</td>\n",
       "      <td>0</td>\n",
       "      <td>0</td>\n",
       "      <td>0</td>\n",
       "      <td>1</td>\n",
       "      <td>472efea17</td>\n",
       "      <td>3b9693870</td>\n",
       "      <td>c4455f4a8</td>\n",
       "      <td>397dd0274</td>\n",
       "      <td>80f1411c8</td>\n",
       "      <td>2</td>\n",
       "      <td>1</td>\n",
       "      <td>2.0</td>\n",
       "      <td>7.0</td>\n",
       "      <td>...</td>\n",
       "      <td>1</td>\n",
       "      <td>0</td>\n",
       "      <td>0</td>\n",
       "      <td>0</td>\n",
       "      <td>0</td>\n",
       "      <td>1</td>\n",
       "      <td>0</td>\n",
       "      <td>0</td>\n",
       "      <td>0</td>\n",
       "      <td>0</td>\n",
       "      <td>0</td>\n",
       "      <td>1</td>\n",
       "      <td>0</td>\n",
       "      <td>1</td>\n",
       "      <td>0</td>\n",
       "    </tr>\n",
       "    <tr>\n",
       "      <th>299997</th>\n",
       "      <td>299997</td>\n",
       "      <td>0</td>\n",
       "      <td>0</td>\n",
       "      <td>0</td>\n",
       "      <td>0</td>\n",
       "      <td>1</td>\n",
       "      <td>0dee9b39a</td>\n",
       "      <td>6046454de</td>\n",
       "      <td>ba9901303</td>\n",
       "      <td>5d7806f53</td>\n",
       "      <td>314dcc15b</td>\n",
       "      <td>3</td>\n",
       "      <td>1</td>\n",
       "      <td>0.0</td>\n",
       "      <td>14.0</td>\n",
       "      <td>...</td>\n",
       "      <td>0</td>\n",
       "      <td>0</td>\n",
       "      <td>0</td>\n",
       "      <td>0</td>\n",
       "      <td>0</td>\n",
       "      <td>0</td>\n",
       "      <td>0</td>\n",
       "      <td>0</td>\n",
       "      <td>0</td>\n",
       "      <td>0</td>\n",
       "      <td>0</td>\n",
       "      <td>1</td>\n",
       "      <td>1</td>\n",
       "      <td>0</td>\n",
       "      <td>0</td>\n",
       "    </tr>\n",
       "    <tr>\n",
       "      <th>299998</th>\n",
       "      <td>299998</td>\n",
       "      <td>0</td>\n",
       "      <td>1</td>\n",
       "      <td>0</td>\n",
       "      <td>0</td>\n",
       "      <td>1</td>\n",
       "      <td>e1558b071</td>\n",
       "      <td>0000ee65f</td>\n",
       "      <td>c8ae4ea14</td>\n",
       "      <td>1f820c7ce</td>\n",
       "      <td>ab0ce192b</td>\n",
       "      <td>1</td>\n",
       "      <td>4</td>\n",
       "      <td>0.0</td>\n",
       "      <td>7.0</td>\n",
       "      <td>...</td>\n",
       "      <td>0</td>\n",
       "      <td>0</td>\n",
       "      <td>0</td>\n",
       "      <td>0</td>\n",
       "      <td>0</td>\n",
       "      <td>0</td>\n",
       "      <td>0</td>\n",
       "      <td>0</td>\n",
       "      <td>1</td>\n",
       "      <td>0</td>\n",
       "      <td>0</td>\n",
       "      <td>0</td>\n",
       "      <td>0</td>\n",
       "      <td>1</td>\n",
       "      <td>0</td>\n",
       "    </tr>\n",
       "    <tr>\n",
       "      <th>299999</th>\n",
       "      <td>299999</td>\n",
       "      <td>0</td>\n",
       "      <td>0</td>\n",
       "      <td>0</td>\n",
       "      <td>0</td>\n",
       "      <td>1</td>\n",
       "      <td>416a8f3ab</td>\n",
       "      <td>8d1b72979</td>\n",
       "      <td>c073efb40</td>\n",
       "      <td>c13d3ebdf</td>\n",
       "      <td>ad1af2b45</td>\n",
       "      <td>3</td>\n",
       "      <td>2</td>\n",
       "      <td>2.0</td>\n",
       "      <td>8.0</td>\n",
       "      <td>...</td>\n",
       "      <td>1</td>\n",
       "      <td>0</td>\n",
       "      <td>0</td>\n",
       "      <td>1</td>\n",
       "      <td>0</td>\n",
       "      <td>0</td>\n",
       "      <td>0</td>\n",
       "      <td>0</td>\n",
       "      <td>0</td>\n",
       "      <td>0</td>\n",
       "      <td>0</td>\n",
       "      <td>1</td>\n",
       "      <td>0</td>\n",
       "      <td>0</td>\n",
       "      <td>0</td>\n",
       "    </tr>\n",
       "  </tbody>\n",
       "</table>\n",
       "<p>300000 rows × 42 columns</p>\n",
       "</div>"
      ],
      "text/plain": [
       "            id  bin_0  bin_1  bin_2  bin_3  bin_4      nom_5      nom_6  \\\n",
       "0            0      0      0      0      1      1  50f116bcf  3ac1b8814   \n",
       "1            1      0      1      0      1      1  b3b4d25d0  fbcb50fc1   \n",
       "2            2      0      0      0      0      1  3263bdce5  0922e3cb8   \n",
       "3            3      0      1      0      0      1  f12246592  50d7ad46a   \n",
       "4            4      0      0      0      0      0  5b0f5acd5  1fe17a1fd   \n",
       "...        ...    ...    ...    ...    ...    ...        ...        ...   \n",
       "299995  299995      0      0      0      1      0  35f65a9bf  788ba7aea   \n",
       "299996  299996      0      0      0      0      1  472efea17  3b9693870   \n",
       "299997  299997      0      0      0      0      1  0dee9b39a  6046454de   \n",
       "299998  299998      0      1      0      0      1  e1558b071  0000ee65f   \n",
       "299999  299999      0      0      0      0      1  416a8f3ab  8d1b72979   \n",
       "\n",
       "            nom_7      nom_8      nom_9  ord_0  ord_1  ord_2  ord_3  ...  \\\n",
       "0       68f6ad3e9  c389000ab  2f4cb3d51      2      5    1.0    7.0  ...   \n",
       "1       3b6dd5612  4cd920251  f83c56c21      1      5    3.0    0.0  ...   \n",
       "2       a6a36f527  de9c9f684  ae6800dd0      1      3    4.0    7.0  ...   \n",
       "3       ec69236eb  4ade6ab69  8270f0d71      1      5    0.0    8.0  ...   \n",
       "4       04ddac2be  cb43ab175  b164b72a7      1      5    2.0    0.0  ...   \n",
       "...           ...        ...        ...    ...    ...    ...    ...  ...   \n",
       "299995  86a8e4ca0  7508f4ef1  e027decef      1      2    2.0   10.0  ...   \n",
       "299996  c4455f4a8  397dd0274  80f1411c8      2      1    2.0    7.0  ...   \n",
       "299997  ba9901303  5d7806f53  314dcc15b      3      1    0.0   14.0  ...   \n",
       "299998  c8ae4ea14  1f820c7ce  ab0ce192b      1      4    0.0    7.0  ...   \n",
       "299999  c073efb40  c13d3ebdf  ad1af2b45      3      2    2.0    8.0  ...   \n",
       "\n",
       "        nom_1_Trapezoid  nom_1_Triangle  nom_2_Cat  nom_2_Dog  nom_2_Hamster  \\\n",
       "0                     0               1          0          0              0   \n",
       "1                     1               0          0          0              1   \n",
       "2                     1               0          0          0              0   \n",
       "3                     1               0          0          0              0   \n",
       "4                     1               0          0          0              0   \n",
       "...                 ...             ...        ...        ...            ...   \n",
       "299995                1               0          0          0              0   \n",
       "299996                1               0          0          0              0   \n",
       "299997                0               0          0          0              0   \n",
       "299998                0               0          0          0              0   \n",
       "299999                1               0          0          1              0   \n",
       "\n",
       "        nom_2_Lion  nom_2_Snake  nom_3_China  nom_3_Costa Rica  nom_3_Finland  \\\n",
       "0                0            1            0                 0              1   \n",
       "1                0            0            0                 0              0   \n",
       "2                1            0            0                 0              0   \n",
       "3                0            1            0                 0              0   \n",
       "4                1            0            0                 0              0   \n",
       "...            ...          ...          ...               ...            ...   \n",
       "299995           0            1            0                 0              0   \n",
       "299996           1            0            0                 0              0   \n",
       "299997           0            0            0                 0              0   \n",
       "299998           0            0            0                 1              0   \n",
       "299999           0            0            0                 0              0   \n",
       "\n",
       "        nom_3_India  nom_3_Russia  nom_4_Oboe  nom_4_Piano  nom_4_Theremin  \n",
       "0                 0             0           0            0               0  \n",
       "1                 0             1           0            1               0  \n",
       "2                 0             1           0            0               1  \n",
       "3                 0             0           1            0               0  \n",
       "4                 0             0           1            0               0  \n",
       "...             ...           ...         ...          ...             ...  \n",
       "299995            1             0           1            0               0  \n",
       "299996            0             1           0            1               0  \n",
       "299997            0             1           1            0               0  \n",
       "299998            0             0           0            1               0  \n",
       "299999            0             1           0            0               0  \n",
       "\n",
       "[300000 rows x 42 columns]"
      ]
     },
     "execution_count": 35,
     "metadata": {},
     "output_type": "execute_result"
    }
   ],
   "source": [
    "a"
   ]
  },
  {
   "cell_type": "code",
   "execution_count": 36,
   "metadata": {},
   "outputs": [],
   "source": [
    "a.drop('id',axis=1,inplace=True)"
   ]
  },
  {
   "cell_type": "code",
   "execution_count": 37,
   "metadata": {},
   "outputs": [
    {
     "data": {
      "text/html": [
       "<div>\n",
       "<style scoped>\n",
       "    .dataframe tbody tr th:only-of-type {\n",
       "        vertical-align: middle;\n",
       "    }\n",
       "\n",
       "    .dataframe tbody tr th {\n",
       "        vertical-align: top;\n",
       "    }\n",
       "\n",
       "    .dataframe thead th {\n",
       "        text-align: right;\n",
       "    }\n",
       "</style>\n",
       "<table border=\"1\" class=\"dataframe\">\n",
       "  <thead>\n",
       "    <tr style=\"text-align: right;\">\n",
       "      <th></th>\n",
       "      <th>bin_0</th>\n",
       "      <th>bin_1</th>\n",
       "      <th>bin_2</th>\n",
       "      <th>bin_3</th>\n",
       "      <th>bin_4</th>\n",
       "      <th>nom_5</th>\n",
       "      <th>nom_6</th>\n",
       "      <th>nom_7</th>\n",
       "      <th>nom_8</th>\n",
       "      <th>nom_9</th>\n",
       "      <th>ord_0</th>\n",
       "      <th>ord_1</th>\n",
       "      <th>ord_2</th>\n",
       "      <th>ord_3</th>\n",
       "      <th>ord_4</th>\n",
       "      <th>...</th>\n",
       "      <th>nom_1_Trapezoid</th>\n",
       "      <th>nom_1_Triangle</th>\n",
       "      <th>nom_2_Cat</th>\n",
       "      <th>nom_2_Dog</th>\n",
       "      <th>nom_2_Hamster</th>\n",
       "      <th>nom_2_Lion</th>\n",
       "      <th>nom_2_Snake</th>\n",
       "      <th>nom_3_China</th>\n",
       "      <th>nom_3_Costa Rica</th>\n",
       "      <th>nom_3_Finland</th>\n",
       "      <th>nom_3_India</th>\n",
       "      <th>nom_3_Russia</th>\n",
       "      <th>nom_4_Oboe</th>\n",
       "      <th>nom_4_Piano</th>\n",
       "      <th>nom_4_Theremin</th>\n",
       "    </tr>\n",
       "  </thead>\n",
       "  <tbody>\n",
       "    <tr>\n",
       "      <th>0</th>\n",
       "      <td>0</td>\n",
       "      <td>0</td>\n",
       "      <td>0</td>\n",
       "      <td>1</td>\n",
       "      <td>1</td>\n",
       "      <td>50f116bcf</td>\n",
       "      <td>3ac1b8814</td>\n",
       "      <td>68f6ad3e9</td>\n",
       "      <td>c389000ab</td>\n",
       "      <td>2f4cb3d51</td>\n",
       "      <td>2</td>\n",
       "      <td>5</td>\n",
       "      <td>1.0</td>\n",
       "      <td>7.0</td>\n",
       "      <td>3.0</td>\n",
       "      <td>...</td>\n",
       "      <td>0</td>\n",
       "      <td>1</td>\n",
       "      <td>0</td>\n",
       "      <td>0</td>\n",
       "      <td>0</td>\n",
       "      <td>0</td>\n",
       "      <td>1</td>\n",
       "      <td>0</td>\n",
       "      <td>0</td>\n",
       "      <td>1</td>\n",
       "      <td>0</td>\n",
       "      <td>0</td>\n",
       "      <td>0</td>\n",
       "      <td>0</td>\n",
       "      <td>0</td>\n",
       "    </tr>\n",
       "    <tr>\n",
       "      <th>1</th>\n",
       "      <td>0</td>\n",
       "      <td>1</td>\n",
       "      <td>0</td>\n",
       "      <td>1</td>\n",
       "      <td>1</td>\n",
       "      <td>b3b4d25d0</td>\n",
       "      <td>fbcb50fc1</td>\n",
       "      <td>3b6dd5612</td>\n",
       "      <td>4cd920251</td>\n",
       "      <td>f83c56c21</td>\n",
       "      <td>1</td>\n",
       "      <td>5</td>\n",
       "      <td>3.0</td>\n",
       "      <td>0.0</td>\n",
       "      <td>0.0</td>\n",
       "      <td>...</td>\n",
       "      <td>1</td>\n",
       "      <td>0</td>\n",
       "      <td>0</td>\n",
       "      <td>0</td>\n",
       "      <td>1</td>\n",
       "      <td>0</td>\n",
       "      <td>0</td>\n",
       "      <td>0</td>\n",
       "      <td>0</td>\n",
       "      <td>0</td>\n",
       "      <td>0</td>\n",
       "      <td>1</td>\n",
       "      <td>0</td>\n",
       "      <td>1</td>\n",
       "      <td>0</td>\n",
       "    </tr>\n",
       "    <tr>\n",
       "      <th>2</th>\n",
       "      <td>0</td>\n",
       "      <td>0</td>\n",
       "      <td>0</td>\n",
       "      <td>0</td>\n",
       "      <td>1</td>\n",
       "      <td>3263bdce5</td>\n",
       "      <td>0922e3cb8</td>\n",
       "      <td>a6a36f527</td>\n",
       "      <td>de9c9f684</td>\n",
       "      <td>ae6800dd0</td>\n",
       "      <td>1</td>\n",
       "      <td>3</td>\n",
       "      <td>4.0</td>\n",
       "      <td>7.0</td>\n",
       "      <td>17.0</td>\n",
       "      <td>...</td>\n",
       "      <td>1</td>\n",
       "      <td>0</td>\n",
       "      <td>0</td>\n",
       "      <td>0</td>\n",
       "      <td>0</td>\n",
       "      <td>1</td>\n",
       "      <td>0</td>\n",
       "      <td>0</td>\n",
       "      <td>0</td>\n",
       "      <td>0</td>\n",
       "      <td>0</td>\n",
       "      <td>1</td>\n",
       "      <td>0</td>\n",
       "      <td>0</td>\n",
       "      <td>1</td>\n",
       "    </tr>\n",
       "    <tr>\n",
       "      <th>3</th>\n",
       "      <td>0</td>\n",
       "      <td>1</td>\n",
       "      <td>0</td>\n",
       "      <td>0</td>\n",
       "      <td>1</td>\n",
       "      <td>f12246592</td>\n",
       "      <td>50d7ad46a</td>\n",
       "      <td>ec69236eb</td>\n",
       "      <td>4ade6ab69</td>\n",
       "      <td>8270f0d71</td>\n",
       "      <td>1</td>\n",
       "      <td>5</td>\n",
       "      <td>0.0</td>\n",
       "      <td>8.0</td>\n",
       "      <td>3.0</td>\n",
       "      <td>...</td>\n",
       "      <td>1</td>\n",
       "      <td>0</td>\n",
       "      <td>0</td>\n",
       "      <td>0</td>\n",
       "      <td>0</td>\n",
       "      <td>0</td>\n",
       "      <td>1</td>\n",
       "      <td>0</td>\n",
       "      <td>0</td>\n",
       "      <td>0</td>\n",
       "      <td>0</td>\n",
       "      <td>0</td>\n",
       "      <td>1</td>\n",
       "      <td>0</td>\n",
       "      <td>0</td>\n",
       "    </tr>\n",
       "    <tr>\n",
       "      <th>4</th>\n",
       "      <td>0</td>\n",
       "      <td>0</td>\n",
       "      <td>0</td>\n",
       "      <td>0</td>\n",
       "      <td>0</td>\n",
       "      <td>5b0f5acd5</td>\n",
       "      <td>1fe17a1fd</td>\n",
       "      <td>04ddac2be</td>\n",
       "      <td>cb43ab175</td>\n",
       "      <td>b164b72a7</td>\n",
       "      <td>1</td>\n",
       "      <td>5</td>\n",
       "      <td>2.0</td>\n",
       "      <td>0.0</td>\n",
       "      <td>17.0</td>\n",
       "      <td>...</td>\n",
       "      <td>1</td>\n",
       "      <td>0</td>\n",
       "      <td>0</td>\n",
       "      <td>0</td>\n",
       "      <td>0</td>\n",
       "      <td>1</td>\n",
       "      <td>0</td>\n",
       "      <td>0</td>\n",
       "      <td>0</td>\n",
       "      <td>0</td>\n",
       "      <td>0</td>\n",
       "      <td>0</td>\n",
       "      <td>1</td>\n",
       "      <td>0</td>\n",
       "      <td>0</td>\n",
       "    </tr>\n",
       "    <tr>\n",
       "      <th>...</th>\n",
       "      <td>...</td>\n",
       "      <td>...</td>\n",
       "      <td>...</td>\n",
       "      <td>...</td>\n",
       "      <td>...</td>\n",
       "      <td>...</td>\n",
       "      <td>...</td>\n",
       "      <td>...</td>\n",
       "      <td>...</td>\n",
       "      <td>...</td>\n",
       "      <td>...</td>\n",
       "      <td>...</td>\n",
       "      <td>...</td>\n",
       "      <td>...</td>\n",
       "      <td>...</td>\n",
       "      <td>...</td>\n",
       "      <td>...</td>\n",
       "      <td>...</td>\n",
       "      <td>...</td>\n",
       "      <td>...</td>\n",
       "      <td>...</td>\n",
       "      <td>...</td>\n",
       "      <td>...</td>\n",
       "      <td>...</td>\n",
       "      <td>...</td>\n",
       "      <td>...</td>\n",
       "      <td>...</td>\n",
       "      <td>...</td>\n",
       "      <td>...</td>\n",
       "      <td>...</td>\n",
       "      <td>...</td>\n",
       "    </tr>\n",
       "    <tr>\n",
       "      <th>299995</th>\n",
       "      <td>0</td>\n",
       "      <td>0</td>\n",
       "      <td>0</td>\n",
       "      <td>1</td>\n",
       "      <td>0</td>\n",
       "      <td>35f65a9bf</td>\n",
       "      <td>788ba7aea</td>\n",
       "      <td>86a8e4ca0</td>\n",
       "      <td>7508f4ef1</td>\n",
       "      <td>e027decef</td>\n",
       "      <td>1</td>\n",
       "      <td>2</td>\n",
       "      <td>2.0</td>\n",
       "      <td>10.0</td>\n",
       "      <td>10.0</td>\n",
       "      <td>...</td>\n",
       "      <td>1</td>\n",
       "      <td>0</td>\n",
       "      <td>0</td>\n",
       "      <td>0</td>\n",
       "      <td>0</td>\n",
       "      <td>0</td>\n",
       "      <td>1</td>\n",
       "      <td>0</td>\n",
       "      <td>0</td>\n",
       "      <td>0</td>\n",
       "      <td>1</td>\n",
       "      <td>0</td>\n",
       "      <td>1</td>\n",
       "      <td>0</td>\n",
       "      <td>0</td>\n",
       "    </tr>\n",
       "    <tr>\n",
       "      <th>299996</th>\n",
       "      <td>0</td>\n",
       "      <td>0</td>\n",
       "      <td>0</td>\n",
       "      <td>0</td>\n",
       "      <td>1</td>\n",
       "      <td>472efea17</td>\n",
       "      <td>3b9693870</td>\n",
       "      <td>c4455f4a8</td>\n",
       "      <td>397dd0274</td>\n",
       "      <td>80f1411c8</td>\n",
       "      <td>2</td>\n",
       "      <td>1</td>\n",
       "      <td>2.0</td>\n",
       "      <td>7.0</td>\n",
       "      <td>22.0</td>\n",
       "      <td>...</td>\n",
       "      <td>1</td>\n",
       "      <td>0</td>\n",
       "      <td>0</td>\n",
       "      <td>0</td>\n",
       "      <td>0</td>\n",
       "      <td>1</td>\n",
       "      <td>0</td>\n",
       "      <td>0</td>\n",
       "      <td>0</td>\n",
       "      <td>0</td>\n",
       "      <td>0</td>\n",
       "      <td>1</td>\n",
       "      <td>0</td>\n",
       "      <td>1</td>\n",
       "      <td>0</td>\n",
       "    </tr>\n",
       "    <tr>\n",
       "      <th>299997</th>\n",
       "      <td>0</td>\n",
       "      <td>0</td>\n",
       "      <td>0</td>\n",
       "      <td>0</td>\n",
       "      <td>1</td>\n",
       "      <td>0dee9b39a</td>\n",
       "      <td>6046454de</td>\n",
       "      <td>ba9901303</td>\n",
       "      <td>5d7806f53</td>\n",
       "      <td>314dcc15b</td>\n",
       "      <td>3</td>\n",
       "      <td>1</td>\n",
       "      <td>0.0</td>\n",
       "      <td>14.0</td>\n",
       "      <td>0.0</td>\n",
       "      <td>...</td>\n",
       "      <td>0</td>\n",
       "      <td>0</td>\n",
       "      <td>0</td>\n",
       "      <td>0</td>\n",
       "      <td>0</td>\n",
       "      <td>0</td>\n",
       "      <td>0</td>\n",
       "      <td>0</td>\n",
       "      <td>0</td>\n",
       "      <td>0</td>\n",
       "      <td>0</td>\n",
       "      <td>1</td>\n",
       "      <td>1</td>\n",
       "      <td>0</td>\n",
       "      <td>0</td>\n",
       "    </tr>\n",
       "    <tr>\n",
       "      <th>299998</th>\n",
       "      <td>0</td>\n",
       "      <td>1</td>\n",
       "      <td>0</td>\n",
       "      <td>0</td>\n",
       "      <td>1</td>\n",
       "      <td>e1558b071</td>\n",
       "      <td>0000ee65f</td>\n",
       "      <td>c8ae4ea14</td>\n",
       "      <td>1f820c7ce</td>\n",
       "      <td>ab0ce192b</td>\n",
       "      <td>1</td>\n",
       "      <td>4</td>\n",
       "      <td>0.0</td>\n",
       "      <td>7.0</td>\n",
       "      <td>22.0</td>\n",
       "      <td>...</td>\n",
       "      <td>0</td>\n",
       "      <td>0</td>\n",
       "      <td>0</td>\n",
       "      <td>0</td>\n",
       "      <td>0</td>\n",
       "      <td>0</td>\n",
       "      <td>0</td>\n",
       "      <td>0</td>\n",
       "      <td>1</td>\n",
       "      <td>0</td>\n",
       "      <td>0</td>\n",
       "      <td>0</td>\n",
       "      <td>0</td>\n",
       "      <td>1</td>\n",
       "      <td>0</td>\n",
       "    </tr>\n",
       "    <tr>\n",
       "      <th>299999</th>\n",
       "      <td>0</td>\n",
       "      <td>0</td>\n",
       "      <td>0</td>\n",
       "      <td>0</td>\n",
       "      <td>1</td>\n",
       "      <td>416a8f3ab</td>\n",
       "      <td>8d1b72979</td>\n",
       "      <td>c073efb40</td>\n",
       "      <td>c13d3ebdf</td>\n",
       "      <td>ad1af2b45</td>\n",
       "      <td>3</td>\n",
       "      <td>2</td>\n",
       "      <td>2.0</td>\n",
       "      <td>8.0</td>\n",
       "      <td>17.0</td>\n",
       "      <td>...</td>\n",
       "      <td>1</td>\n",
       "      <td>0</td>\n",
       "      <td>0</td>\n",
       "      <td>1</td>\n",
       "      <td>0</td>\n",
       "      <td>0</td>\n",
       "      <td>0</td>\n",
       "      <td>0</td>\n",
       "      <td>0</td>\n",
       "      <td>0</td>\n",
       "      <td>0</td>\n",
       "      <td>1</td>\n",
       "      <td>0</td>\n",
       "      <td>0</td>\n",
       "      <td>0</td>\n",
       "    </tr>\n",
       "  </tbody>\n",
       "</table>\n",
       "<p>300000 rows × 41 columns</p>\n",
       "</div>"
      ],
      "text/plain": [
       "        bin_0  bin_1  bin_2  bin_3  bin_4      nom_5      nom_6      nom_7  \\\n",
       "0           0      0      0      1      1  50f116bcf  3ac1b8814  68f6ad3e9   \n",
       "1           0      1      0      1      1  b3b4d25d0  fbcb50fc1  3b6dd5612   \n",
       "2           0      0      0      0      1  3263bdce5  0922e3cb8  a6a36f527   \n",
       "3           0      1      0      0      1  f12246592  50d7ad46a  ec69236eb   \n",
       "4           0      0      0      0      0  5b0f5acd5  1fe17a1fd  04ddac2be   \n",
       "...       ...    ...    ...    ...    ...        ...        ...        ...   \n",
       "299995      0      0      0      1      0  35f65a9bf  788ba7aea  86a8e4ca0   \n",
       "299996      0      0      0      0      1  472efea17  3b9693870  c4455f4a8   \n",
       "299997      0      0      0      0      1  0dee9b39a  6046454de  ba9901303   \n",
       "299998      0      1      0      0      1  e1558b071  0000ee65f  c8ae4ea14   \n",
       "299999      0      0      0      0      1  416a8f3ab  8d1b72979  c073efb40   \n",
       "\n",
       "            nom_8      nom_9  ord_0  ord_1  ord_2  ord_3  ord_4  ...  \\\n",
       "0       c389000ab  2f4cb3d51      2      5    1.0    7.0    3.0  ...   \n",
       "1       4cd920251  f83c56c21      1      5    3.0    0.0    0.0  ...   \n",
       "2       de9c9f684  ae6800dd0      1      3    4.0    7.0   17.0  ...   \n",
       "3       4ade6ab69  8270f0d71      1      5    0.0    8.0    3.0  ...   \n",
       "4       cb43ab175  b164b72a7      1      5    2.0    0.0   17.0  ...   \n",
       "...           ...        ...    ...    ...    ...    ...    ...  ...   \n",
       "299995  7508f4ef1  e027decef      1      2    2.0   10.0   10.0  ...   \n",
       "299996  397dd0274  80f1411c8      2      1    2.0    7.0   22.0  ...   \n",
       "299997  5d7806f53  314dcc15b      3      1    0.0   14.0    0.0  ...   \n",
       "299998  1f820c7ce  ab0ce192b      1      4    0.0    7.0   22.0  ...   \n",
       "299999  c13d3ebdf  ad1af2b45      3      2    2.0    8.0   17.0  ...   \n",
       "\n",
       "        nom_1_Trapezoid  nom_1_Triangle  nom_2_Cat  nom_2_Dog  nom_2_Hamster  \\\n",
       "0                     0               1          0          0              0   \n",
       "1                     1               0          0          0              1   \n",
       "2                     1               0          0          0              0   \n",
       "3                     1               0          0          0              0   \n",
       "4                     1               0          0          0              0   \n",
       "...                 ...             ...        ...        ...            ...   \n",
       "299995                1               0          0          0              0   \n",
       "299996                1               0          0          0              0   \n",
       "299997                0               0          0          0              0   \n",
       "299998                0               0          0          0              0   \n",
       "299999                1               0          0          1              0   \n",
       "\n",
       "        nom_2_Lion  nom_2_Snake  nom_3_China  nom_3_Costa Rica  nom_3_Finland  \\\n",
       "0                0            1            0                 0              1   \n",
       "1                0            0            0                 0              0   \n",
       "2                1            0            0                 0              0   \n",
       "3                0            1            0                 0              0   \n",
       "4                1            0            0                 0              0   \n",
       "...            ...          ...          ...               ...            ...   \n",
       "299995           0            1            0                 0              0   \n",
       "299996           1            0            0                 0              0   \n",
       "299997           0            0            0                 0              0   \n",
       "299998           0            0            0                 1              0   \n",
       "299999           0            0            0                 0              0   \n",
       "\n",
       "        nom_3_India  nom_3_Russia  nom_4_Oboe  nom_4_Piano  nom_4_Theremin  \n",
       "0                 0             0           0            0               0  \n",
       "1                 0             1           0            1               0  \n",
       "2                 0             1           0            0               1  \n",
       "3                 0             0           1            0               0  \n",
       "4                 0             0           1            0               0  \n",
       "...             ...           ...         ...          ...             ...  \n",
       "299995            1             0           1            0               0  \n",
       "299996            0             1           0            1               0  \n",
       "299997            0             1           1            0               0  \n",
       "299998            0             0           0            1               0  \n",
       "299999            0             1           0            0               0  \n",
       "\n",
       "[300000 rows x 41 columns]"
      ]
     },
     "execution_count": 37,
     "metadata": {},
     "output_type": "execute_result"
    }
   ],
   "source": [
    "a"
   ]
  },
  {
   "cell_type": "code",
   "execution_count": 38,
   "metadata": {},
   "outputs": [
    {
     "data": {
      "text/plain": [
       "(222, 522, 1220, 2215, 11981)"
      ]
     },
     "execution_count": 38,
     "metadata": {},
     "output_type": "execute_result"
    }
   ],
   "source": [
    "a['nom_5'].nunique(),a['nom_6'].nunique(),a['nom_7'].nunique(),a['nom_8'].nunique(),a['nom_9'].nunique()"
   ]
  },
  {
   "cell_type": "code",
   "execution_count": 39,
   "metadata": {},
   "outputs": [],
   "source": [
    "nom_5_features=list(a['nom_5'].unique())\n",
    "nom_6_features=list(a['nom_6'].unique())\n",
    "nom_7_features=list(a['nom_7'].unique())\n",
    "nom_8_features=list(a['nom_8'].unique())\n",
    "nom_9_features=list(a['nom_9'].unique())"
   ]
  },
  {
   "cell_type": "code",
   "execution_count": 40,
   "metadata": {},
   "outputs": [],
   "source": [
    "from tqdm import tqdm"
   ]
  },
  {
   "cell_type": "code",
   "execution_count": 41,
   "metadata": {},
   "outputs": [
    {
     "name": "stderr",
     "output_type": "stream",
     "text": [
      "100%|██████████| 222/222 [00:04<00:00, 52.37it/s]\n"
     ]
    }
   ],
   "source": [
    "freq_nom_5=[]\n",
    "for i in tqdm(range(len(nom_5_features))):\n",
    "    temp_df=a[a['nom_5']==nom_5_features[i]]\n",
    "    freq_nom_5.append(temp_df.shape[0])\n",
    "    "
   ]
  },
  {
   "cell_type": "code",
   "execution_count": 42,
   "metadata": {},
   "outputs": [
    {
     "data": {
      "image/png": "[encoded data removed]",
      "text/plain": [
       "<Figure size 1440x360 with 1 Axes>"
      ]
     },
     "metadata": {
      "needs_background": "light"
     },
     "output_type": "display_data"
    }
   ],
   "source": [
    "plt.figure(figsize=(20,5))\n",
    "sn.countplot(freq_nom_5)\n",
    "plt.xticks(rotation=90)\n",
    "plt.show()"
   ]
  },
  {
   "cell_type": "code",
   "execution_count": 43,
   "metadata": {},
   "outputs": [
    {
     "name": "stderr",
     "output_type": "stream",
     "text": [
      "100%|██████████| 522/522 [00:09<00:00, 57.75it/s]\n"
     ]
    }
   ],
   "source": [
    "freq_nom_6=[]\n",
    "for i in tqdm(range(len(nom_6_features))):\n",
    "    temp_df=a[a['nom_6']==nom_6_features[i]]\n",
    "    freq_nom_6.append(temp_df.shape[0])\n",
    "    "
   ]
  },
  {
   "cell_type": "code",
   "execution_count": 44,
   "metadata": {},
   "outputs": [
    {
     "data": {
      "image/png": "[encoded data removed]",
      "text/plain": [
       "<Figure size 1440x360 with 1 Axes>"
      ]
     },
     "metadata": {
      "needs_background": "light"
     },
     "output_type": "display_data"
    }
   ],
   "source": [
    "plt.figure(figsize=(20,5))\n",
    "sn.countplot(freq_nom_6)\n",
    "plt.xticks(rotation=90)\n",
    "plt.show()"
   ]
  },
  {
   "cell_type": "code",
   "execution_count": 45,
   "metadata": {},
   "outputs": [
    {
     "name": "stderr",
     "output_type": "stream",
     "text": [
      "100%|██████████| 1220/1220 [00:20<00:00, 59.58it/s]\n"
     ]
    },
    {
     "data": {
      "image/png": "[encoded data removed]",
      "text/plain": [
       "<Figure size 1440x360 with 1 Axes>"
      ]
     },
     "metadata": {
      "needs_background": "light"
     },
     "output_type": "display_data"
    }
   ],
   "source": [
    "freq_nom_7=[]\n",
    "for i in tqdm(range(len(nom_7_features))):\n",
    "    temp_df=a[a['nom_7']==nom_7_features[i]]\n",
    "    freq_nom_7.append(temp_df.shape[0])\n",
    "plt.figure(figsize=(20,5))\n",
    "sn.countplot(freq_nom_7)\n",
    "plt.xticks(rotation=90)\n",
    "plt.show()    "
   ]
  },
  {
   "cell_type": "code",
   "execution_count": 46,
   "metadata": {},
   "outputs": [
    {
     "name": "stderr",
     "output_type": "stream",
     "text": [
      "100%|██████████| 2215/2215 [00:38<00:00, 58.21it/s]\n"
     ]
    },
    {
     "data": {
      "image/png": "[encoded data removed]",
      "text/plain": [
       "<Figure size 1440x360 with 1 Axes>"
      ]
     },
     "metadata": {
      "needs_background": "light"
     },
     "output_type": "display_data"
    }
   ],
   "source": [
    "freq_nom_8=[]\n",
    "for i in tqdm(range(len(nom_8_features))):\n",
    "    temp_df=a[a['nom_8']==nom_8_features[i]]\n",
    "    freq_nom_8.append(temp_df.shape[0])\n",
    "plt.figure(figsize=(20,5))\n",
    "sn.countplot(freq_nom_8)\n",
    "plt.xticks(rotation=90)\n",
    "plt.show()    "
   ]
  },
  {
   "cell_type": "code",
   "execution_count": 47,
   "metadata": {},
   "outputs": [
    {
     "name": "stderr",
     "output_type": "stream",
     "text": [
      "100%|██████████| 11981/11981 [04:53<00:00, 40.83it/s]\n"
     ]
    },
    {
     "data": {
      "image/png": "[encoded data removed]",
      "text/plain": [
       "<Figure size 1440x360 with 1 Axes>"
      ]
     },
     "metadata": {
      "needs_background": "light"
     },
     "output_type": "display_data"
    }
   ],
   "source": [
    "freq_nom_9=[]\n",
    "for i in tqdm(range(len(nom_9_features))):\n",
    "    temp_df=a[a['nom_9']==nom_9_features[i]]\n",
    "    freq_nom_9.append(temp_df.shape[0])\n",
    "plt.figure(figsize=(20,5))\n",
    "sn.countplot(freq_nom_9)\n",
    "plt.xticks(rotation=90)\n",
    "plt.show()    "
   ]
  },
  {
   "cell_type": "markdown",
   "metadata": {},
   "source": [
    "for the above features we can apply feature hashing but by applying feature hashing again there will be collisons and we don't know to which domensions we need to reduce the features there we need to tune the parameter and fing the value which is giving best results. But, there are other methods like expanding mean and mean encoding. It is not good to use mean encoding beacuse it causes over fitting problem very easily. so, we xcan use exapanding mean method but for that we need to have data balance which is not in this case. So, I choose frequeny encoding"
   ]
  },
  {
   "cell_type": "code",
   "execution_count": 48,
   "metadata": {},
   "outputs": [
    {
     "name": "stderr",
     "output_type": "stream",
     "text": [
      "100%|██████████| 222/222 [00:00<?, ?it/s]\n",
      "100%|██████████| 522/522 [00:00<00:00, 995193.95it/s]\n",
      "100%|██████████| 1220/1220 [00:00<00:00, 1224174.85it/s]\n",
      "100%|██████████| 2215/2215 [00:00<00:00, 2224708.66it/s]\n",
      "100%|██████████| 11981/11981 [00:00<00:00, 2002389.07it/s]\n"
     ]
    }
   ],
   "source": [
    "nom_5_dict=dict()\n",
    "nom_6_dict=dict()\n",
    "nom_7_dict=dict()\n",
    "nom_8_dict=dict()\n",
    "nom_9_dict=dict()\n",
    "for i in tqdm(range(len(nom_5_features))):\n",
    "    nom_5_dict[nom_5_features[i]]=freq_nom_5[i]\n",
    "for i in tqdm(range(len(nom_6_features))):\n",
    "    nom_6_dict[nom_6_features[i]]=freq_nom_6[i]\n",
    "for i in tqdm(range(len(nom_7_features))):\n",
    "    nom_7_dict[nom_7_features[i]]=freq_nom_7[i]\n",
    "for i in tqdm(range(len(nom_8_features))):\n",
    "    nom_8_dict[nom_8_features[i]]=freq_nom_8[i]\n",
    "for i in tqdm(range(len(nom_9_features))):\n",
    "    nom_9_dict[nom_9_features[i]]=freq_nom_9[i]\n"
   ]
  },
  {
   "cell_type": "code",
   "execution_count": 49,
   "metadata": {},
   "outputs": [],
   "source": [
    "a['nom_5']=a['nom_5'].map(nom_5_dict)"
   ]
  },
  {
   "cell_type": "code",
   "execution_count": 50,
   "metadata": {},
   "outputs": [],
   "source": [
    "a['nom_6']=a['nom_6'].map(nom_6_dict)\n",
    "a['nom_7']=a['nom_7'].map(nom_7_dict)\n",
    "a['nom_8']=a['nom_8'].map(nom_8_dict)\n",
    "a['nom_9']=a['nom_9'].map(nom_9_dict)"
   ]
  },
  {
   "cell_type": "code",
   "execution_count": 51,
   "metadata": {},
   "outputs": [
    {
     "data": {
      "text/html": [
       "<div>\n",
       "<style scoped>\n",
       "    .dataframe tbody tr th:only-of-type {\n",
       "        vertical-align: middle;\n",
       "    }\n",
       "\n",
       "    .dataframe tbody tr th {\n",
       "        vertical-align: top;\n",
       "    }\n",
       "\n",
       "    .dataframe thead th {\n",
       "        text-align: right;\n",
       "    }\n",
       "</style>\n",
       "<table border=\"1\" class=\"dataframe\">\n",
       "  <thead>\n",
       "    <tr style=\"text-align: right;\">\n",
       "      <th></th>\n",
       "      <th>bin_0</th>\n",
       "      <th>bin_1</th>\n",
       "      <th>bin_2</th>\n",
       "      <th>bin_3</th>\n",
       "      <th>bin_4</th>\n",
       "      <th>nom_5</th>\n",
       "      <th>nom_6</th>\n",
       "      <th>nom_7</th>\n",
       "      <th>nom_8</th>\n",
       "      <th>nom_9</th>\n",
       "      <th>ord_0</th>\n",
       "      <th>ord_1</th>\n",
       "      <th>ord_2</th>\n",
       "      <th>ord_3</th>\n",
       "      <th>ord_4</th>\n",
       "      <th>...</th>\n",
       "      <th>nom_1_Trapezoid</th>\n",
       "      <th>nom_1_Triangle</th>\n",
       "      <th>nom_2_Cat</th>\n",
       "      <th>nom_2_Dog</th>\n",
       "      <th>nom_2_Hamster</th>\n",
       "      <th>nom_2_Lion</th>\n",
       "      <th>nom_2_Snake</th>\n",
       "      <th>nom_3_China</th>\n",
       "      <th>nom_3_Costa Rica</th>\n",
       "      <th>nom_3_Finland</th>\n",
       "      <th>nom_3_India</th>\n",
       "      <th>nom_3_Russia</th>\n",
       "      <th>nom_4_Oboe</th>\n",
       "      <th>nom_4_Piano</th>\n",
       "      <th>nom_4_Theremin</th>\n",
       "    </tr>\n",
       "  </thead>\n",
       "  <tbody>\n",
       "    <tr>\n",
       "      <th>0</th>\n",
       "      <td>0</td>\n",
       "      <td>0</td>\n",
       "      <td>0</td>\n",
       "      <td>1</td>\n",
       "      <td>1</td>\n",
       "      <td>2594</td>\n",
       "      <td>1148</td>\n",
       "      <td>241</td>\n",
       "      <td>271</td>\n",
       "      <td>19</td>\n",
       "      <td>2</td>\n",
       "      <td>5</td>\n",
       "      <td>1.0</td>\n",
       "      <td>7.0</td>\n",
       "      <td>3.0</td>\n",
       "      <td>...</td>\n",
       "      <td>0</td>\n",
       "      <td>1</td>\n",
       "      <td>0</td>\n",
       "      <td>0</td>\n",
       "      <td>0</td>\n",
       "      <td>0</td>\n",
       "      <td>1</td>\n",
       "      <td>0</td>\n",
       "      <td>0</td>\n",
       "      <td>1</td>\n",
       "      <td>0</td>\n",
       "      <td>0</td>\n",
       "      <td>0</td>\n",
       "      <td>0</td>\n",
       "      <td>0</td>\n",
       "    </tr>\n",
       "    <tr>\n",
       "      <th>1</th>\n",
       "      <td>0</td>\n",
       "      <td>1</td>\n",
       "      <td>0</td>\n",
       "      <td>1</td>\n",
       "      <td>1</td>\n",
       "      <td>792</td>\n",
       "      <td>842</td>\n",
       "      <td>287</td>\n",
       "      <td>111</td>\n",
       "      <td>13</td>\n",
       "      <td>1</td>\n",
       "      <td>5</td>\n",
       "      <td>3.0</td>\n",
       "      <td>0.0</td>\n",
       "      <td>0.0</td>\n",
       "      <td>...</td>\n",
       "      <td>1</td>\n",
       "      <td>0</td>\n",
       "      <td>0</td>\n",
       "      <td>0</td>\n",
       "      <td>1</td>\n",
       "      <td>0</td>\n",
       "      <td>0</td>\n",
       "      <td>0</td>\n",
       "      <td>0</td>\n",
       "      <td>0</td>\n",
       "      <td>0</td>\n",
       "      <td>1</td>\n",
       "      <td>0</td>\n",
       "      <td>1</td>\n",
       "      <td>0</td>\n",
       "    </tr>\n",
       "    <tr>\n",
       "      <th>2</th>\n",
       "      <td>0</td>\n",
       "      <td>0</td>\n",
       "      <td>0</td>\n",
       "      <td>0</td>\n",
       "      <td>1</td>\n",
       "      <td>2524</td>\n",
       "      <td>1169</td>\n",
       "      <td>475</td>\n",
       "      <td>278</td>\n",
       "      <td>29</td>\n",
       "      <td>1</td>\n",
       "      <td>3</td>\n",
       "      <td>4.0</td>\n",
       "      <td>7.0</td>\n",
       "      <td>17.0</td>\n",
       "      <td>...</td>\n",
       "      <td>1</td>\n",
       "      <td>0</td>\n",
       "      <td>0</td>\n",
       "      <td>0</td>\n",
       "      <td>0</td>\n",
       "      <td>1</td>\n",
       "      <td>0</td>\n",
       "      <td>0</td>\n",
       "      <td>0</td>\n",
       "      <td>0</td>\n",
       "      <td>0</td>\n",
       "      <td>1</td>\n",
       "      <td>0</td>\n",
       "      <td>0</td>\n",
       "      <td>1</td>\n",
       "    </tr>\n",
       "    <tr>\n",
       "      <th>3</th>\n",
       "      <td>0</td>\n",
       "      <td>1</td>\n",
       "      <td>0</td>\n",
       "      <td>0</td>\n",
       "      <td>1</td>\n",
       "      <td>975</td>\n",
       "      <td>1175</td>\n",
       "      <td>442</td>\n",
       "      <td>203</td>\n",
       "      <td>44</td>\n",
       "      <td>1</td>\n",
       "      <td>5</td>\n",
       "      <td>0.0</td>\n",
       "      <td>8.0</td>\n",
       "      <td>3.0</td>\n",
       "      <td>...</td>\n",
       "      <td>1</td>\n",
       "      <td>0</td>\n",
       "      <td>0</td>\n",
       "      <td>0</td>\n",
       "      <td>0</td>\n",
       "      <td>0</td>\n",
       "      <td>1</td>\n",
       "      <td>0</td>\n",
       "      <td>0</td>\n",
       "      <td>0</td>\n",
       "      <td>0</td>\n",
       "      <td>0</td>\n",
       "      <td>1</td>\n",
       "      <td>0</td>\n",
       "      <td>0</td>\n",
       "    </tr>\n",
       "    <tr>\n",
       "      <th>4</th>\n",
       "      <td>0</td>\n",
       "      <td>0</td>\n",
       "      <td>0</td>\n",
       "      <td>0</td>\n",
       "      <td>0</td>\n",
       "      <td>2010</td>\n",
       "      <td>1157</td>\n",
       "      <td>436</td>\n",
       "      <td>207</td>\n",
       "      <td>35</td>\n",
       "      <td>1</td>\n",
       "      <td>5</td>\n",
       "      <td>2.0</td>\n",
       "      <td>0.0</td>\n",
       "      <td>17.0</td>\n",
       "      <td>...</td>\n",
       "      <td>1</td>\n",
       "      <td>0</td>\n",
       "      <td>0</td>\n",
       "      <td>0</td>\n",
       "      <td>0</td>\n",
       "      <td>1</td>\n",
       "      <td>0</td>\n",
       "      <td>0</td>\n",
       "      <td>0</td>\n",
       "      <td>0</td>\n",
       "      <td>0</td>\n",
       "      <td>0</td>\n",
       "      <td>1</td>\n",
       "      <td>0</td>\n",
       "      <td>0</td>\n",
       "    </tr>\n",
       "  </tbody>\n",
       "</table>\n",
       "<p>5 rows × 41 columns</p>\n",
       "</div>"
      ],
      "text/plain": [
       "   bin_0  bin_1  bin_2  bin_3  bin_4  nom_5  nom_6  nom_7  nom_8  nom_9  \\\n",
       "0      0      0      0      1      1   2594   1148    241    271     19   \n",
       "1      0      1      0      1      1    792    842    287    111     13   \n",
       "2      0      0      0      0      1   2524   1169    475    278     29   \n",
       "3      0      1      0      0      1    975   1175    442    203     44   \n",
       "4      0      0      0      0      0   2010   1157    436    207     35   \n",
       "\n",
       "   ord_0  ord_1  ord_2  ord_3  ord_4  ...  nom_1_Trapezoid  nom_1_Triangle  \\\n",
       "0      2      5    1.0    7.0    3.0  ...                0               1   \n",
       "1      1      5    3.0    0.0    0.0  ...                1               0   \n",
       "2      1      3    4.0    7.0   17.0  ...                1               0   \n",
       "3      1      5    0.0    8.0    3.0  ...                1               0   \n",
       "4      1      5    2.0    0.0   17.0  ...                1               0   \n",
       "\n",
       "   nom_2_Cat  nom_2_Dog  nom_2_Hamster  nom_2_Lion  nom_2_Snake  nom_3_China  \\\n",
       "0          0          0              0           0            1            0   \n",
       "1          0          0              1           0            0            0   \n",
       "2          0          0              0           1            0            0   \n",
       "3          0          0              0           0            1            0   \n",
       "4          0          0              0           1            0            0   \n",
       "\n",
       "   nom_3_Costa Rica  nom_3_Finland  nom_3_India  nom_3_Russia  nom_4_Oboe  \\\n",
       "0                 0              1            0             0           0   \n",
       "1                 0              0            0             1           0   \n",
       "2                 0              0            0             1           0   \n",
       "3                 0              0            0             0           1   \n",
       "4                 0              0            0             0           1   \n",
       "\n",
       "   nom_4_Piano  nom_4_Theremin  \n",
       "0            0               0  \n",
       "1            1               0  \n",
       "2            0               1  \n",
       "3            0               0  \n",
       "4            0               0  \n",
       "\n",
       "[5 rows x 41 columns]"
      ]
     },
     "execution_count": 51,
     "metadata": {},
     "output_type": "execute_result"
    }
   ],
   "source": [
    "a.head()"
   ]
  },
  {
   "cell_type": "code",
   "execution_count": 52,
   "metadata": {},
   "outputs": [
    {
     "data": {
      "text/plain": [
       "Index(['bin_0', 'bin_1', 'bin_2', 'bin_3', 'bin_4', 'nom_5', 'nom_6', 'nom_7',\n",
       "       'nom_8', 'nom_9', 'ord_0', 'ord_1', 'ord_2', 'ord_3', 'ord_4', 'ord_5',\n",
       "       'target', 'sin_month', 'cos_month', 'sin_day', 'cos_day', 'nom_0_Green',\n",
       "       'nom_0_Red', 'nom_1_Polygon', 'nom_1_Square', 'nom_1_Star',\n",
       "       'nom_1_Trapezoid', 'nom_1_Triangle', 'nom_2_Cat', 'nom_2_Dog',\n",
       "       'nom_2_Hamster', 'nom_2_Lion', 'nom_2_Snake', 'nom_3_China',\n",
       "       'nom_3_Costa Rica', 'nom_3_Finland', 'nom_3_India', 'nom_3_Russia',\n",
       "       'nom_4_Oboe', 'nom_4_Piano', 'nom_4_Theremin'],\n",
       "      dtype='object')"
      ]
     },
     "execution_count": 52,
     "metadata": {},
     "output_type": "execute_result"
    }
   ],
   "source": [
    "a.columns"
   ]
  },
  {
   "cell_type": "code",
   "execution_count": 53,
   "metadata": {},
   "outputs": [],
   "source": [
    "columns=['bin_0', 'bin_1', 'bin_2', 'bin_3', 'bin_4', 'nom_5', 'nom_6', 'nom_7',\n",
    "         'nom_8', 'nom_9', 'ord_0', 'ord_1', 'ord_2', 'ord_3', 'ord_4', 'ord_5',\n",
    "         'sin_month', 'cos_month', 'sin_day', 'cos_day', 'nom_0_Green',\n",
    "         'nom_0_Red', 'nom_1_Polygon', 'nom_1_Square', 'nom_1_Star',\n",
    "         'nom_1_Trapezoid', 'nom_1_Triangle', 'nom_2_Cat', 'nom_2_Dog',\n",
    "         'nom_2_Hamster', 'nom_2_Lion', 'nom_2_Snake', 'nom_3_China',\n",
    "         'nom_3_Costa Rica', 'nom_3_Finland', 'nom_3_India', 'nom_3_Russia',\n",
    "         'nom_4_Oboe', 'nom_4_Piano', 'nom_4_Theremin']"
   ]
  },
  {
   "cell_type": "code",
   "execution_count": 54,
   "metadata": {},
   "outputs": [
    {
     "name": "stdout",
     "output_type": "stream",
     "text": [
      "<class 'pandas.core.frame.DataFrame'>\n",
      "RangeIndex: 300000 entries, 0 to 299999\n",
      "Data columns (total 41 columns):\n",
      " #   Column            Non-Null Count   Dtype  \n",
      "---  ------            --------------   -----  \n",
      " 0   bin_0             300000 non-null  int64  \n",
      " 1   bin_1             300000 non-null  int64  \n",
      " 2   bin_2             300000 non-null  int64  \n",
      " 3   bin_3             300000 non-null  int64  \n",
      " 4   bin_4             300000 non-null  int64  \n",
      " 5   nom_5             300000 non-null  int64  \n",
      " 6   nom_6             300000 non-null  int64  \n",
      " 7   nom_7             300000 non-null  int64  \n",
      " 8   nom_8             300000 non-null  int64  \n",
      " 9   nom_9             300000 non-null  int64  \n",
      " 10  ord_0             300000 non-null  int64  \n",
      " 11  ord_1             300000 non-null  int64  \n",
      " 12  ord_2             300000 non-null  float64\n",
      " 13  ord_3             300000 non-null  float64\n",
      " 14  ord_4             300000 non-null  float64\n",
      " 15  ord_5             300000 non-null  float64\n",
      " 16  target            300000 non-null  int64  \n",
      " 17  sin_month         300000 non-null  float64\n",
      " 18  cos_month         300000 non-null  float64\n",
      " 19  sin_day           300000 non-null  float64\n",
      " 20  cos_day           300000 non-null  float64\n",
      " 21  nom_0_Green       300000 non-null  uint8  \n",
      " 22  nom_0_Red         300000 non-null  uint8  \n",
      " 23  nom_1_Polygon     300000 non-null  uint8  \n",
      " 24  nom_1_Square      300000 non-null  uint8  \n",
      " 25  nom_1_Star        300000 non-null  uint8  \n",
      " 26  nom_1_Trapezoid   300000 non-null  uint8  \n",
      " 27  nom_1_Triangle    300000 non-null  uint8  \n",
      " 28  nom_2_Cat         300000 non-null  uint8  \n",
      " 29  nom_2_Dog         300000 non-null  uint8  \n",
      " 30  nom_2_Hamster     300000 non-null  uint8  \n",
      " 31  nom_2_Lion        300000 non-null  uint8  \n",
      " 32  nom_2_Snake       300000 non-null  uint8  \n",
      " 33  nom_3_China       300000 non-null  uint8  \n",
      " 34  nom_3_Costa Rica  300000 non-null  uint8  \n",
      " 35  nom_3_Finland     300000 non-null  uint8  \n",
      " 36  nom_3_India       300000 non-null  uint8  \n",
      " 37  nom_3_Russia      300000 non-null  uint8  \n",
      " 38  nom_4_Oboe        300000 non-null  uint8  \n",
      " 39  nom_4_Piano       300000 non-null  uint8  \n",
      " 40  nom_4_Theremin    300000 non-null  uint8  \n",
      "dtypes: float64(8), int64(13), uint8(20)\n",
      "memory usage: 53.8 MB\n"
     ]
    }
   ],
   "source": [
    "a.info()"
   ]
  },
  {
   "cell_type": "code",
   "execution_count": 55,
   "metadata": {},
   "outputs": [],
   "source": [
    "x=a.drop(['target'],axis=1).values\n",
    "y=a['target'].values"
   ]
  },
  {
   "cell_type": "code",
   "execution_count": 56,
   "metadata": {},
   "outputs": [],
   "source": [
    "from sklearn.model_selection import StratifiedKFold"
   ]
  },
  {
   "cell_type": "code",
   "execution_count": 57,
   "metadata": {},
   "outputs": [
    {
     "name": "stderr",
     "output_type": "stream",
     "text": [
      "C:\\Users\\beast brothers\\anaconda3\\lib\\site-packages\\tensorflow\\python\\framework\\dtypes.py:516: FutureWarning: Passing (type, 1) or '1type' as a synonym of type is deprecated; in a future version of numpy, it will be understood as (type, (1,)) / '(1,)type'.\n",
      "  _np_qint8 = np.dtype([(\"qint8\", np.int8, 1)])\n",
      "C:\\Users\\beast brothers\\anaconda3\\lib\\site-packages\\tensorflow\\python\\framework\\dtypes.py:517: FutureWarning: Passing (type, 1) or '1type' as a synonym of type is deprecated; in a future version of numpy, it will be understood as (type, (1,)) / '(1,)type'.\n",
      "  _np_quint8 = np.dtype([(\"quint8\", np.uint8, 1)])\n",
      "C:\\Users\\beast brothers\\anaconda3\\lib\\site-packages\\tensorflow\\python\\framework\\dtypes.py:518: FutureWarning: Passing (type, 1) or '1type' as a synonym of type is deprecated; in a future version of numpy, it will be understood as (type, (1,)) / '(1,)type'.\n",
      "  _np_qint16 = np.dtype([(\"qint16\", np.int16, 1)])\n",
      "C:\\Users\\beast brothers\\anaconda3\\lib\\site-packages\\tensorflow\\python\\framework\\dtypes.py:519: FutureWarning: Passing (type, 1) or '1type' as a synonym of type is deprecated; in a future version of numpy, it will be understood as (type, (1,)) / '(1,)type'.\n",
      "  _np_quint16 = np.dtype([(\"quint16\", np.uint16, 1)])\n",
      "C:\\Users\\beast brothers\\anaconda3\\lib\\site-packages\\tensorflow\\python\\framework\\dtypes.py:520: FutureWarning: Passing (type, 1) or '1type' as a synonym of type is deprecated; in a future version of numpy, it will be understood as (type, (1,)) / '(1,)type'.\n",
      "  _np_qint32 = np.dtype([(\"qint32\", np.int32, 1)])\n",
      "C:\\Users\\beast brothers\\anaconda3\\lib\\site-packages\\tensorflow\\python\\framework\\dtypes.py:525: FutureWarning: Passing (type, 1) or '1type' as a synonym of type is deprecated; in a future version of numpy, it will be understood as (type, (1,)) / '(1,)type'.\n",
      "  np_resource = np.dtype([(\"resource\", np.ubyte, 1)])\n",
      "C:\\Users\\beast brothers\\anaconda3\\lib\\site-packages\\tensorboard\\compat\\tensorflow_stub\\dtypes.py:541: FutureWarning: Passing (type, 1) or '1type' as a synonym of type is deprecated; in a future version of numpy, it will be understood as (type, (1,)) / '(1,)type'.\n",
      "  _np_qint8 = np.dtype([(\"qint8\", np.int8, 1)])\n",
      "C:\\Users\\beast brothers\\anaconda3\\lib\\site-packages\\tensorboard\\compat\\tensorflow_stub\\dtypes.py:542: FutureWarning: Passing (type, 1) or '1type' as a synonym of type is deprecated; in a future version of numpy, it will be understood as (type, (1,)) / '(1,)type'.\n",
      "  _np_quint8 = np.dtype([(\"quint8\", np.uint8, 1)])\n",
      "C:\\Users\\beast brothers\\anaconda3\\lib\\site-packages\\tensorboard\\compat\\tensorflow_stub\\dtypes.py:543: FutureWarning: Passing (type, 1) or '1type' as a synonym of type is deprecated; in a future version of numpy, it will be understood as (type, (1,)) / '(1,)type'.\n",
      "  _np_qint16 = np.dtype([(\"qint16\", np.int16, 1)])\n",
      "C:\\Users\\beast brothers\\anaconda3\\lib\\site-packages\\tensorboard\\compat\\tensorflow_stub\\dtypes.py:544: FutureWarning: Passing (type, 1) or '1type' as a synonym of type is deprecated; in a future version of numpy, it will be understood as (type, (1,)) / '(1,)type'.\n",
      "  _np_quint16 = np.dtype([(\"quint16\", np.uint16, 1)])\n",
      "C:\\Users\\beast brothers\\anaconda3\\lib\\site-packages\\tensorboard\\compat\\tensorflow_stub\\dtypes.py:545: FutureWarning: Passing (type, 1) or '1type' as a synonym of type is deprecated; in a future version of numpy, it will be understood as (type, (1,)) / '(1,)type'.\n",
      "  _np_qint32 = np.dtype([(\"qint32\", np.int32, 1)])\n",
      "C:\\Users\\beast brothers\\anaconda3\\lib\\site-packages\\tensorboard\\compat\\tensorflow_stub\\dtypes.py:550: FutureWarning: Passing (type, 1) or '1type' as a synonym of type is deprecated; in a future version of numpy, it will be understood as (type, (1,)) / '(1,)type'.\n",
      "  np_resource = np.dtype([(\"resource\", np.ubyte, 1)])\n"
     ]
    }
   ],
   "source": [
    "from imblearn.over_sampling import SMOTE"
   ]
  },
  {
   "cell_type": "code",
   "execution_count": 58,
   "metadata": {},
   "outputs": [],
   "source": [
    "smote=SMOTE(sampling_strategy='minority')"
   ]
  },
  {
   "cell_type": "code",
   "execution_count": 59,
   "metadata": {},
   "outputs": [],
   "source": [
    "from sklearn.preprocessing import StandardScaler"
   ]
  },
  {
   "cell_type": "code",
   "execution_count": 60,
   "metadata": {},
   "outputs": [],
   "source": [
    "x,y=smote.fit_resample(x,y)"
   ]
  },
  {
   "cell_type": "code",
   "execution_count": 61,
   "metadata": {},
   "outputs": [],
   "source": [
    "stf=StratifiedKFold(n_splits=5)\n",
    "for train,test in stf.split(x,y):\n",
    "    x_train,x_test,y_train,y_test=x[train],x[test],y[train],y[test]"
   ]
  },
  {
   "cell_type": "code",
   "execution_count": 62,
   "metadata": {},
   "outputs": [],
   "source": [
    "scaler=StandardScaler()\n",
    "scaler.fit(x_train)\n",
    "x_train=scaler.transform(x_train)\n",
    "x_test=scaler.transform(x_test)"
   ]
  },
  {
   "cell_type": "code",
   "execution_count": 63,
   "metadata": {},
   "outputs": [],
   "source": [
    "from sklearn.linear_model import LogisticRegression"
   ]
  },
  {
   "cell_type": "code",
   "execution_count": 64,
   "metadata": {},
   "outputs": [],
   "source": [
    "log=LogisticRegression(solver='saga')\n",
    "params={'C':[1,10,100,0.1,0.01]}"
   ]
  },
  {
   "cell_type": "code",
   "execution_count": 65,
   "metadata": {},
   "outputs": [],
   "source": [
    "grid=GridSearchCV(log,param_grid=params,cv=5,scoring='accuracy',verbose=5)"
   ]
  },
  {
   "cell_type": "code",
   "execution_count": 67,
   "metadata": {},
   "outputs": [
    {
     "data": {
      "text/plain": [
       "(0.5, 0.5)"
      ]
     },
     "execution_count": 67,
     "metadata": {},
     "output_type": "execute_result"
    }
   ],
   "source": [
    "np.sum(y_train,axis=0)/len(y_train),np.sum(1-y_train)/len(y_train)"
   ]
  },
  {
   "cell_type": "code",
   "execution_count": 69,
   "metadata": {},
   "outputs": [
    {
     "name": "stdout",
     "output_type": "stream",
     "text": [
      "Fitting 5 folds for each of 5 candidates, totalling 25 fits\n",
      "[CV] C=1 .............................................................\n"
     ]
    },
    {
     "name": "stderr",
     "output_type": "stream",
     "text": [
      "[Parallel(n_jobs=1)]: Using backend SequentialBackend with 1 concurrent workers.\n"
     ]
    },
    {
     "name": "stdout",
     "output_type": "stream",
     "text": [
      "[CV] ................................. C=1, score=0.678, total=   3.3s\n",
      "[CV] C=1 .............................................................\n"
     ]
    },
    {
     "name": "stderr",
     "output_type": "stream",
     "text": [
      "[Parallel(n_jobs=1)]: Done   1 out of   1 | elapsed:    3.2s remaining:    0.0s\n"
     ]
    },
    {
     "name": "stdout",
     "output_type": "stream",
     "text": [
      "[CV] ................................. C=1, score=0.679, total=   3.2s\n",
      "[CV] C=1 .............................................................\n"
     ]
    },
    {
     "name": "stderr",
     "output_type": "stream",
     "text": [
      "[Parallel(n_jobs=1)]: Done   2 out of   2 | elapsed:    6.4s remaining:    0.0s\n"
     ]
    },
    {
     "name": "stdout",
     "output_type": "stream",
     "text": [
      "[CV] ................................. C=1, score=0.683, total=   3.3s\n",
      "[CV] C=1 .............................................................\n"
     ]
    },
    {
     "name": "stderr",
     "output_type": "stream",
     "text": [
      "[Parallel(n_jobs=1)]: Done   3 out of   3 | elapsed:    9.8s remaining:    0.0s\n"
     ]
    },
    {
     "name": "stdout",
     "output_type": "stream",
     "text": [
      "[CV] ................................. C=1, score=0.700, total=   3.4s\n",
      "[CV] C=1 .............................................................\n"
     ]
    },
    {
     "name": "stderr",
     "output_type": "stream",
     "text": [
      "[Parallel(n_jobs=1)]: Done   4 out of   4 | elapsed:   13.2s remaining:    0.0s\n"
     ]
    },
    {
     "name": "stdout",
     "output_type": "stream",
     "text": [
      "[CV] ................................. C=1, score=0.697, total=   3.3s\n",
      "[CV] C=10 ............................................................\n",
      "[CV] ................................ C=10, score=0.678, total=   3.4s\n",
      "[CV] C=10 ............................................................\n",
      "[CV] ................................ C=10, score=0.679, total=   3.4s\n",
      "[CV] C=10 ............................................................\n",
      "[CV] ................................ C=10, score=0.683, total=   3.6s\n",
      "[CV] C=10 ............................................................\n",
      "[CV] ................................ C=10, score=0.700, total=   3.5s\n",
      "[CV] C=10 ............................................................\n",
      "[CV] ................................ C=10, score=0.697, total=   3.3s\n",
      "[CV] C=100 ...........................................................\n",
      "[CV] ............................... C=100, score=0.678, total=   3.6s\n",
      "[CV] C=100 ...........................................................\n",
      "[CV] ............................... C=100, score=0.679, total=   3.6s\n",
      "[CV] C=100 ...........................................................\n",
      "[CV] ............................... C=100, score=0.683, total=   3.3s\n",
      "[CV] C=100 ...........................................................\n",
      "[CV] ............................... C=100, score=0.700, total=   3.3s\n",
      "[CV] C=100 ...........................................................\n",
      "[CV] ............................... C=100, score=0.697, total=   3.5s\n",
      "[CV] C=0.1 ...........................................................\n",
      "[CV] ............................... C=0.1, score=0.678, total=   3.4s\n",
      "[CV] C=0.1 ...........................................................\n",
      "[CV] ............................... C=0.1, score=0.679, total=   3.6s\n",
      "[CV] C=0.1 ...........................................................\n",
      "[CV] ............................... C=0.1, score=0.683, total=   3.4s\n",
      "[CV] C=0.1 ...........................................................\n",
      "[CV] ............................... C=0.1, score=0.700, total=   3.3s\n",
      "[CV] C=0.1 ...........................................................\n",
      "[CV] ............................... C=0.1, score=0.697, total=   3.0s\n",
      "[CV] C=0.01 ..........................................................\n",
      "[CV] .............................. C=0.01, score=0.678, total=   3.1s\n",
      "[CV] C=0.01 ..........................................................\n",
      "[CV] .............................. C=0.01, score=0.679, total=   3.2s\n",
      "[CV] C=0.01 ..........................................................\n",
      "[CV] .............................. C=0.01, score=0.683, total=   3.2s\n",
      "[CV] C=0.01 ..........................................................\n",
      "[CV] .............................. C=0.01, score=0.700, total=   3.2s\n",
      "[CV] C=0.01 ..........................................................\n",
      "[CV] .............................. C=0.01, score=0.697, total=   3.2s\n"
     ]
    },
    {
     "name": "stderr",
     "output_type": "stream",
     "text": [
      "[Parallel(n_jobs=1)]: Done  25 out of  25 | elapsed:  1.4min finished\n"
     ]
    },
    {
     "data": {
      "text/plain": [
       "GridSearchCV(cv=5, error_score=nan,\n",
       "             estimator=LogisticRegression(C=1.0, class_weight=None, dual=False,\n",
       "                                          fit_intercept=True,\n",
       "                                          intercept_scaling=1, l1_ratio=None,\n",
       "                                          max_iter=100, multi_class='auto',\n",
       "                                          n_jobs=None, penalty='l2',\n",
       "                                          random_state=None, solver='saga',\n",
       "                                          tol=0.0001, verbose=0,\n",
       "                                          warm_start=False),\n",
       "             iid='deprecated', n_jobs=None,\n",
       "             param_grid={'C': [1, 10, 100, 0.1, 0.01]}, pre_dispatch='2*n_jobs',\n",
       "             refit=True, return_train_score=False, scoring='accuracy',\n",
       "             verbose=5)"
      ]
     },
     "execution_count": 69,
     "metadata": {},
     "output_type": "execute_result"
    }
   ],
   "source": [
    "grid.fit(x_train,y_train)"
   ]
  },
  {
   "cell_type": "code",
   "execution_count": 70,
   "metadata": {},
   "outputs": [],
   "source": [
    "best_log=grid.best_estimator_"
   ]
  },
  {
   "cell_type": "code",
   "execution_count": 71,
   "metadata": {},
   "outputs": [
    {
     "data": {
      "text/plain": [
       "LogisticRegression(C=0.01, class_weight=None, dual=False, fit_intercept=True,\n",
       "                   intercept_scaling=1, l1_ratio=None, max_iter=100,\n",
       "                   multi_class='auto', n_jobs=None, penalty='l2',\n",
       "                   random_state=None, solver='saga', tol=0.0001, verbose=0,\n",
       "                   warm_start=False)"
      ]
     },
     "execution_count": 71,
     "metadata": {},
     "output_type": "execute_result"
    }
   ],
   "source": [
    "best_log.fit(x_train,y_train)"
   ]
  },
  {
   "cell_type": "code",
   "execution_count": 72,
   "metadata": {},
   "outputs": [
    {
     "data": {
      "text/plain": [
       "array([[ 0.00376061, -0.24392709,  0.03222362, -0.02852338, -0.1223236 ,\n",
       "         0.0158274 , -0.00093904, -0.00638089,  0.00080635,  0.00739758,\n",
       "         0.24034103,  0.38698289,  0.08567048,  0.36459322,  0.43306487,\n",
       "         0.46713384, -0.15584962, -0.06980467, -0.39974718, -0.36684605,\n",
       "         0.25453479,  0.28267766,  0.13546348,  0.20558525,  0.13724089,\n",
       "         0.12232384,  0.20666917,  0.04113344, -0.14394691,  0.071792  ,\n",
       "        -0.07793717, -0.02261894, -0.0538607 , -0.04235881, -0.18603389,\n",
       "         0.03956972, -0.13348847,  0.25527924,  0.182606  ,  0.26587377]])"
      ]
     },
     "execution_count": 72,
     "metadata": {},
     "output_type": "execute_result"
    }
   ],
   "source": [
    "best_log.coef_"
   ]
  },
  {
   "cell_type": "code",
   "execution_count": 68,
   "metadata": {},
   "outputs": [],
   "source": [
    "from sklearn.metrics import confusion_matrix,classification_report,plot_roc_curve"
   ]
  },
  {
   "cell_type": "code",
   "execution_count": 74,
   "metadata": {},
   "outputs": [],
   "source": [
    "predictions=best_log.predict(x_test)\n"
   ]
  },
  {
   "cell_type": "code",
   "execution_count": 75,
   "metadata": {},
   "outputs": [
    {
     "data": {
      "text/plain": [
       "<sklearn.metrics._plot.roc_curve.RocCurveDisplay at 0x22fbbcf1808>"
      ]
     },
     "execution_count": 75,
     "metadata": {},
     "output_type": "execute_result"
    },
    {
     "data": {
      "image/png": "[encoded data removed]",
      "text/plain": [
       "<Figure size 432x288 with 1 Axes>"
      ]
     },
     "metadata": {
      "needs_background": "light"
     },
     "output_type": "display_data"
    }
   ],
   "source": [
    "plot_roc_curve(best_log,x_train,y_train)"
   ]
  },
  {
   "cell_type": "code",
   "execution_count": 76,
   "metadata": {},
   "outputs": [
    {
     "name": "stdout",
     "output_type": "stream",
     "text": [
      "              precision    recall  f1-score   support\n",
      "\n",
      "           0       0.70      0.68      0.69     41647\n",
      "           1       0.69      0.72      0.70     41647\n",
      "\n",
      "    accuracy                           0.70     83294\n",
      "   macro avg       0.70      0.70      0.70     83294\n",
      "weighted avg       0.70      0.70      0.70     83294\n",
      "\n"
     ]
    }
   ],
   "source": [
    "print(classification_report(y_test,predictions))"
   ]
  },
  {
   "cell_type": "code",
   "execution_count": 69,
   "metadata": {},
   "outputs": [],
   "source": [
    "from sklearn.model_selection import RandomizedSearchCV"
   ]
  },
  {
   "cell_type": "code",
   "execution_count": 70,
   "metadata": {},
   "outputs": [],
   "source": [
    "from sklearn.ensemble import RandomForestClassifier\n",
    "rfc=RandomForestClassifier(n_estimators=250,oob_score=True,bootstrap=True)\n",
    "params={'max_depth':[5,6,7,8,9],'min_samples_split':[2,5,10,20,40,50]}"
   ]
  },
  {
   "cell_type": "code",
   "execution_count": 81,
   "metadata": {},
   "outputs": [
    {
     "name": "stdout",
     "output_type": "stream",
     "text": [
      "Fitting 5 folds for each of 10 candidates, totalling 50 fits\n",
      "[CV] min_samples_split=5, max_depth=6 ................................\n"
     ]
    },
    {
     "name": "stderr",
     "output_type": "stream",
     "text": [
      "[Parallel(n_jobs=1)]: Using backend SequentialBackend with 1 concurrent workers.\n"
     ]
    },
    {
     "name": "stdout",
     "output_type": "stream",
     "text": [
      "[CV] .... min_samples_split=5, max_depth=6, score=0.595, total= 1.3min\n",
      "[CV] min_samples_split=5, max_depth=6 ................................\n"
     ]
    },
    {
     "name": "stderr",
     "output_type": "stream",
     "text": [
      "[Parallel(n_jobs=1)]: Done   1 out of   1 | elapsed:  1.3min remaining:    0.0s\n"
     ]
    },
    {
     "name": "stdout",
     "output_type": "stream",
     "text": [
      "[CV] .... min_samples_split=5, max_depth=6, score=0.591, total= 1.2min\n",
      "[CV] min_samples_split=5, max_depth=6 ................................\n"
     ]
    },
    {
     "name": "stderr",
     "output_type": "stream",
     "text": [
      "[Parallel(n_jobs=1)]: Done   2 out of   2 | elapsed:  2.5min remaining:    0.0s\n"
     ]
    },
    {
     "name": "stdout",
     "output_type": "stream",
     "text": [
      "[CV] .... min_samples_split=5, max_depth=6, score=0.686, total= 1.2min\n",
      "[CV] min_samples_split=5, max_depth=6 ................................\n"
     ]
    },
    {
     "name": "stderr",
     "output_type": "stream",
     "text": [
      "[Parallel(n_jobs=1)]: Done   3 out of   3 | elapsed:  3.7min remaining:    0.0s\n"
     ]
    },
    {
     "name": "stdout",
     "output_type": "stream",
     "text": [
      "[CV] .... min_samples_split=5, max_depth=6, score=0.892, total= 1.2min\n",
      "[CV] min_samples_split=5, max_depth=6 ................................\n"
     ]
    },
    {
     "name": "stderr",
     "output_type": "stream",
     "text": [
      "[Parallel(n_jobs=1)]: Done   4 out of   4 | elapsed:  4.8min remaining:    0.0s\n"
     ]
    },
    {
     "name": "stdout",
     "output_type": "stream",
     "text": [
      "[CV] .... min_samples_split=5, max_depth=6, score=0.891, total= 1.1min\n",
      "[CV] min_samples_split=20, max_depth=8 ...............................\n",
      "[CV] ... min_samples_split=20, max_depth=8, score=0.587, total= 1.5min\n",
      "[CV] min_samples_split=20, max_depth=8 ...............................\n",
      "[CV] ... min_samples_split=20, max_depth=8, score=0.585, total= 1.4min\n",
      "[CV] min_samples_split=20, max_depth=8 ...............................\n",
      "[CV] ... min_samples_split=20, max_depth=8, score=0.689, total= 1.4min\n",
      "[CV] min_samples_split=20, max_depth=8 ...............................\n",
      "[CV] ... min_samples_split=20, max_depth=8, score=0.900, total= 1.3min\n",
      "[CV] min_samples_split=20, max_depth=8 ...............................\n",
      "[CV] ... min_samples_split=20, max_depth=8, score=0.901, total= 1.5min\n",
      "[CV] min_samples_split=20, max_depth=9 ...............................\n",
      "[CV] ... min_samples_split=20, max_depth=9, score=0.583, total= 1.7min\n",
      "[CV] min_samples_split=20, max_depth=9 ...............................\n",
      "[CV] ... min_samples_split=20, max_depth=9, score=0.584, total= 1.9min\n",
      "[CV] min_samples_split=20, max_depth=9 ...............................\n",
      "[CV] ... min_samples_split=20, max_depth=9, score=0.689, total= 1.6min\n",
      "[CV] min_samples_split=20, max_depth=9 ...............................\n",
      "[CV] ... min_samples_split=20, max_depth=9, score=0.906, total= 1.5min\n",
      "[CV] min_samples_split=20, max_depth=9 ...............................\n",
      "[CV] ... min_samples_split=20, max_depth=9, score=0.906, total= 1.5min\n",
      "[CV] min_samples_split=20, max_depth=6 ...............................\n",
      "[CV] ... min_samples_split=20, max_depth=6, score=0.595, total= 1.5min\n",
      "[CV] min_samples_split=20, max_depth=6 ...............................\n",
      "[CV] ... min_samples_split=20, max_depth=6, score=0.590, total= 1.5min\n",
      "[CV] min_samples_split=20, max_depth=6 ...............................\n",
      "[CV] ... min_samples_split=20, max_depth=6, score=0.686, total= 1.5min\n",
      "[CV] min_samples_split=20, max_depth=6 ...............................\n",
      "[CV] ... min_samples_split=20, max_depth=6, score=0.893, total= 1.4min\n",
      "[CV] min_samples_split=20, max_depth=6 ...............................\n",
      "[CV] ... min_samples_split=20, max_depth=6, score=0.890, total= 1.1min\n",
      "[CV] min_samples_split=50, max_depth=8 ...............................\n",
      "[CV] ... min_samples_split=50, max_depth=8, score=0.585, total= 1.5min\n",
      "[CV] min_samples_split=50, max_depth=8 ...............................\n",
      "[CV] ... min_samples_split=50, max_depth=8, score=0.584, total= 1.5min\n",
      "[CV] min_samples_split=50, max_depth=8 ...............................\n",
      "[CV] ... min_samples_split=50, max_depth=8, score=0.689, total= 1.4min\n",
      "[CV] min_samples_split=50, max_depth=8 ...............................\n",
      "[CV] ... min_samples_split=50, max_depth=8, score=0.901, total= 1.3min\n",
      "[CV] min_samples_split=50, max_depth=8 ...............................\n",
      "[CV] ... min_samples_split=50, max_depth=8, score=0.901, total= 1.3min\n",
      "[CV] min_samples_split=40, max_depth=5 ...............................\n",
      "[CV] ... min_samples_split=40, max_depth=5, score=0.596, total= 1.1min\n",
      "[CV] min_samples_split=40, max_depth=5 ...............................\n",
      "[CV] ... min_samples_split=40, max_depth=5, score=0.600, total= 1.1min\n",
      "[CV] min_samples_split=40, max_depth=5 ...............................\n",
      "[CV] ... min_samples_split=40, max_depth=5, score=0.685, total= 1.1min\n",
      "[CV] min_samples_split=40, max_depth=5 ...............................\n",
      "[CV] ... min_samples_split=40, max_depth=5, score=0.880, total= 1.0min\n",
      "[CV] min_samples_split=40, max_depth=5 ...............................\n",
      "[CV] ... min_samples_split=40, max_depth=5, score=0.884, total= 1.1min\n",
      "[CV] min_samples_split=5, max_depth=7 ................................\n",
      "[CV] .... min_samples_split=5, max_depth=7, score=0.590, total= 1.6min\n",
      "[CV] min_samples_split=5, max_depth=7 ................................\n",
      "[CV] .... min_samples_split=5, max_depth=7, score=0.594, total= 1.6min\n",
      "[CV] min_samples_split=5, max_depth=7 ................................\n",
      "[CV] .... min_samples_split=5, max_depth=7, score=0.687, total= 3.4min\n",
      "[CV] min_samples_split=5, max_depth=7 ................................\n",
      "[CV] .... min_samples_split=5, max_depth=7, score=0.897, total= 3.6min\n",
      "[CV] min_samples_split=5, max_depth=7 ................................\n",
      "[CV] .... min_samples_split=5, max_depth=7, score=0.897, total= 3.5min\n",
      "[CV] min_samples_split=20, max_depth=7 ...............................\n",
      "[CV] ... min_samples_split=20, max_depth=7, score=0.588, total= 3.3min\n",
      "[CV] min_samples_split=20, max_depth=7 ...............................\n",
      "[CV] ... min_samples_split=20, max_depth=7, score=0.588, total= 4.2min\n",
      "[CV] min_samples_split=20, max_depth=7 ...............................\n",
      "[CV] ... min_samples_split=20, max_depth=7, score=0.687, total= 3.5min\n",
      "[CV] min_samples_split=20, max_depth=7 ...............................\n",
      "[CV] ... min_samples_split=20, max_depth=7, score=0.899, total= 3.1min\n",
      "[CV] min_samples_split=20, max_depth=7 ...............................\n",
      "[CV] ... min_samples_split=20, max_depth=7, score=0.896, total= 3.5min\n",
      "[CV] min_samples_split=50, max_depth=9 ...............................\n",
      "[CV] ... min_samples_split=50, max_depth=9, score=0.584, total= 4.9min\n",
      "[CV] min_samples_split=50, max_depth=9 ...............................\n",
      "[CV] ... min_samples_split=50, max_depth=9, score=0.583, total= 4.8min\n",
      "[CV] min_samples_split=50, max_depth=9 ...............................\n",
      "[CV] ... min_samples_split=50, max_depth=9, score=0.688, total= 5.1min\n",
      "[CV] min_samples_split=50, max_depth=9 ...............................\n",
      "[CV] ... min_samples_split=50, max_depth=9, score=0.904, total= 5.2min\n",
      "[CV] min_samples_split=50, max_depth=9 ...............................\n",
      "[CV] ... min_samples_split=50, max_depth=9, score=0.905, total= 4.2min\n",
      "[CV] min_samples_split=10, max_depth=7 ...............................\n",
      "[CV] ... min_samples_split=10, max_depth=7, score=0.590, total= 3.6min\n",
      "[CV] min_samples_split=10, max_depth=7 ...............................\n",
      "[CV] ... min_samples_split=10, max_depth=7, score=0.589, total= 1.4min\n",
      "[CV] min_samples_split=10, max_depth=7 ...............................\n",
      "[CV] ... min_samples_split=10, max_depth=7, score=0.689, total= 1.4min\n",
      "[CV] min_samples_split=10, max_depth=7 ...............................\n",
      "[CV] ... min_samples_split=10, max_depth=7, score=0.896, total= 1.4min\n",
      "[CV] min_samples_split=10, max_depth=7 ...............................\n"
     ]
    },
    {
     "name": "stderr",
     "output_type": "stream",
     "text": [
      "[Parallel(n_jobs=1)]: Done  50 out of  50 | elapsed: 105.6min finished\n"
     ]
    },
    {
     "name": "stdout",
     "output_type": "stream",
     "text": [
      "[CV] ... min_samples_split=10, max_depth=7, score=0.897, total= 1.3min\n"
     ]
    },
    {
     "data": {
      "text/plain": [
       "RandomizedSearchCV(cv=5, error_score=nan,\n",
       "                   estimator=RandomForestClassifier(bootstrap=True,\n",
       "                                                    ccp_alpha=0.0,\n",
       "                                                    class_weight=None,\n",
       "                                                    criterion='gini',\n",
       "                                                    max_depth=None,\n",
       "                                                    max_features='auto',\n",
       "                                                    max_leaf_nodes=None,\n",
       "                                                    max_samples=None,\n",
       "                                                    min_impurity_decrease=0.0,\n",
       "                                                    min_impurity_split=None,\n",
       "                                                    min_samples_leaf=1,\n",
       "                                                    min_samples_split=2,\n",
       "                                                    min_weight_fraction_leaf=0.0,\n",
       "                                                    n_estimators=250,\n",
       "                                                    n_jobs=None, oob_score=True,\n",
       "                                                    random_state=None,\n",
       "                                                    verbose=0,\n",
       "                                                    warm_start=False),\n",
       "                   iid='deprecated', n_iter=10, n_jobs=None,\n",
       "                   param_distributions={'max_depth': [5, 6, 7, 8, 9],\n",
       "                                        'min_samples_split': [2, 5, 10, 20, 40,\n",
       "                                                              50]},\n",
       "                   pre_dispatch='2*n_jobs', random_state=None, refit=True,\n",
       "                   return_train_score=False, scoring='accuracy', verbose=5)"
      ]
     },
     "execution_count": 81,
     "metadata": {},
     "output_type": "execute_result"
    }
   ],
   "source": [
    "random=RandomizedSearchCV(rfc,param_distributions=params,cv=5,verbose=5,scoring='accuracy')\n",
    "random.fit(x_train,y_train)"
   ]
  },
  {
   "cell_type": "code",
   "execution_count": 82,
   "metadata": {},
   "outputs": [
    {
     "data": {
      "text/plain": [
       "RandomForestClassifier(bootstrap=True, ccp_alpha=0.0, class_weight=None,\n",
       "                       criterion='gini', max_depth=9, max_features='auto',\n",
       "                       max_leaf_nodes=None, max_samples=None,\n",
       "                       min_impurity_decrease=0.0, min_impurity_split=None,\n",
       "                       min_samples_leaf=1, min_samples_split=20,\n",
       "                       min_weight_fraction_leaf=0.0, n_estimators=250,\n",
       "                       n_jobs=None, oob_score=True, random_state=None,\n",
       "                       verbose=0, warm_start=False)"
      ]
     },
     "execution_count": 82,
     "metadata": {},
     "output_type": "execute_result"
    }
   ],
   "source": [
    "best_forest=random.best_estimator_\n",
    "best_forest.fit(x_train,y_train)"
   ]
  },
  {
   "cell_type": "code",
   "execution_count": 83,
   "metadata": {},
   "outputs": [
    {
     "data": {
      "text/plain": [
       "<matplotlib.axes._subplots.AxesSubplot at 0x22fca93ea48>"
      ]
     },
     "execution_count": 83,
     "metadata": {},
     "output_type": "execute_result"
    },
    {
     "data": {
      "image/png": "[encoded data removed]",
      "text/plain": [
       "<Figure size 1080x720 with 1 Axes>"
      ]
     },
     "metadata": {
      "needs_background": "light"
     },
     "output_type": "display_data"
    }
   ],
   "source": [
    "plt.figure(figsize=(15,10))\n",
    "sn.barplot(best_forest.feature_importances_,columns)"
   ]
  },
  {
   "cell_type": "code",
   "execution_count": 88,
   "metadata": {},
   "outputs": [
    {
     "data": {
      "text/plain": [
       "<bound method BaseEstimator.get_params of RandomForestClassifier(bootstrap=True, ccp_alpha=0.0, class_weight=None,\n",
       "                       criterion='gini', max_depth=9, max_features='auto',\n",
       "                       max_leaf_nodes=None, max_samples=None,\n",
       "                       min_impurity_decrease=0.0, min_impurity_split=None,\n",
       "                       min_samples_leaf=1, min_samples_split=20,\n",
       "                       min_weight_fraction_leaf=0.0, n_estimators=250,\n",
       "                       n_jobs=None, oob_score=True, random_state=None,\n",
       "                       verbose=0, warm_start=False)>"
      ]
     },
     "execution_count": 88,
     "metadata": {},
     "output_type": "execute_result"
    }
   ],
   "source": [
    "best_forest"
   ]
  },
  {
   "cell_type": "code",
   "execution_count": 89,
   "metadata": {},
   "outputs": [],
   "source": [
    "predictions=best_forest.predict(x_test)\n"
   ]
  },
  {
   "cell_type": "code",
   "execution_count": 91,
   "metadata": {},
   "outputs": [
    {
     "data": {
      "text/plain": [
       "<sklearn.metrics._plot.roc_curve.RocCurveDisplay at 0x22fca30dfc8>"
      ]
     },
     "execution_count": 91,
     "metadata": {},
     "output_type": "execute_result"
    },
    {
     "data": {
      "image/png": "[encoded data removed]",
      "text/plain": [
       "<Figure size 432x288 with 1 Axes>"
      ]
     },
     "metadata": {
      "needs_background": "light"
     },
     "output_type": "display_data"
    }
   ],
   "source": [
    "plot_roc_curve(best_forest,x_train,y_train)"
   ]
  },
  {
   "cell_type": "code",
   "execution_count": 92,
   "metadata": {},
   "outputs": [
    {
     "name": "stdout",
     "output_type": "stream",
     "text": [
      "              precision    recall  f1-score   support\n",
      "\n",
      "           0       1.00      0.89      0.94     41647\n",
      "           1       0.90      1.00      0.95     41647\n",
      "\n",
      "    accuracy                           0.94     83294\n",
      "   macro avg       0.95      0.94      0.94     83294\n",
      "weighted avg       0.95      0.94      0.94     83294\n",
      "\n"
     ]
    }
   ],
   "source": [
    "print(classification_report(y_test,predictions))"
   ]
  },
  {
   "cell_type": "code",
   "execution_count": 97,
   "metadata": {},
   "outputs": [
    {
     "data": {
      "text/plain": [
       "0.7624242897190091"
      ]
     },
     "execution_count": 97,
     "metadata": {},
     "output_type": "execute_result"
    }
   ],
   "source": [
    "best_forest.oob_score_"
   ]
  },
  {
   "cell_type": "markdown",
   "metadata": {},
   "source": [
    "checking whether increasing in trees causing any increse in performance.\n",
    "OOB_score is the error which is calculated by using not used data when fitting the model"
   ]
  },
  {
   "cell_type": "code",
   "execution_count": 98,
   "metadata": {},
   "outputs": [
    {
     "name": "stderr",
     "output_type": "stream",
     "text": [
      "100%|██████████| 5/5 [06:45<00:00, 81.12s/it]\n"
     ]
    },
    {
     "data": {
      "text/plain": [
       "[<matplotlib.lines.Line2D at 0x22fca705648>]"
      ]
     },
     "execution_count": 98,
     "metadata": {},
     "output_type": "execute_result"
    },
    {
     "data": {
      "image/png": "[encoded data removed]",
      "text/plain": [
       "<Figure size 864x576 with 1 Axes>"
      ]
     },
     "metadata": {
      "needs_background": "light"
     },
     "output_type": "display_data"
    }
   ],
   "source": [
    "l=[100,120,150,200,250]\n",
    "oob_score_list=[]\n",
    "for i in tqdm(range(len(l))):\n",
    "    temp_model=RandomForestClassifier(bootstrap=True, ccp_alpha=0.0, class_weight=None,\n",
    "                                      criterion='gini', max_depth=9, max_features='auto',\n",
    "                                      max_leaf_nodes=None, max_samples=None,\n",
    "                                      min_impurity_decrease=0.0, min_impurity_split=None,\n",
    "                                      min_samples_leaf=1, min_samples_split=20,\n",
    "                                      min_weight_fraction_leaf=0.0, n_estimators=l[i],\n",
    "                                      n_jobs=None, oob_score=True, random_state=None,\n",
    "                                      verbose=0, warm_start=False)\n",
    "    temp_model.fit(x_train,y_train)\n",
    "    oob_score_list.append(temp_model.oob_score_)\n",
    "plt.figure(figsize=(12,8))\n",
    "plt.plot(l,oob_score_list)\n",
    "    "
   ]
  },
  {
   "cell_type": "markdown",
   "metadata": {},
   "source": [
    "we can see that oob_score is high when n_estimators equal to 200"
   ]
  },
  {
   "cell_type": "code",
   "execution_count": 71,
   "metadata": {},
   "outputs": [],
   "source": [
    "finalmodel=RandomForestClassifier(bootstrap=True, ccp_alpha=0.0, class_weight=None,\n",
    "                                      criterion='gini', max_depth=9, max_features='auto',\n",
    "                                      max_leaf_nodes=None, max_samples=None,\n",
    "                                      min_impurity_decrease=0.0, min_impurity_split=None,\n",
    "                                      min_samples_leaf=1, min_samples_split=20,\n",
    "                                      min_weight_fraction_leaf=0.0, n_estimators=200,\n",
    "                                      n_jobs=None, oob_score=True, random_state=None,\n",
    "                                      verbose=0, warm_start=False)"
   ]
  },
  {
   "cell_type": "code",
   "execution_count": 72,
   "metadata": {},
   "outputs": [
    {
     "data": {
      "text/plain": [
       "RandomForestClassifier(bootstrap=True, ccp_alpha=0.0, class_weight=None,\n",
       "                       criterion='gini', max_depth=9, max_features='auto',\n",
       "                       max_leaf_nodes=None, max_samples=None,\n",
       "                       min_impurity_decrease=0.0, min_impurity_split=None,\n",
       "                       min_samples_leaf=1, min_samples_split=20,\n",
       "                       min_weight_fraction_leaf=0.0, n_estimators=200,\n",
       "                       n_jobs=None, oob_score=True, random_state=None,\n",
       "                       verbose=0, warm_start=False)"
      ]
     },
     "execution_count": 72,
     "metadata": {},
     "output_type": "execute_result"
    }
   ],
   "source": [
    "finalmodel.fit(x_train,y_train)"
   ]
  },
  {
   "cell_type": "code",
   "execution_count": 73,
   "metadata": {},
   "outputs": [
    {
     "data": {
      "text/plain": [
       "<sklearn.metrics._plot.roc_curve.RocCurveDisplay at 0x1cb90285348>"
      ]
     },
     "execution_count": 73,
     "metadata": {},
     "output_type": "execute_result"
    },
    {
     "data": {
      "image/png": "[encoded data removed]",
      "text/plain": [
       "<Figure size 432x288 with 1 Axes>"
      ]
     },
     "metadata": {
      "needs_background": "light"
     },
     "output_type": "display_data"
    }
   ],
   "source": [
    "predictions=finalmodel.predict(x_test)\n",
    "plot_roc_curve(finalmodel,x_train,y_train)"
   ]
  },
  {
   "cell_type": "code",
   "execution_count": 74,
   "metadata": {},
   "outputs": [
    {
     "name": "stdout",
     "output_type": "stream",
     "text": [
      "              precision    recall  f1-score   support\n",
      "\n",
      "           0       1.00      0.88      0.94     41647\n",
      "           1       0.89      1.00      0.94     41647\n",
      "\n",
      "    accuracy                           0.94     83294\n",
      "   macro avg       0.95      0.94      0.94     83294\n",
      "weighted avg       0.95      0.94      0.94     83294\n",
      "\n"
     ]
    }
   ],
   "source": [
    "print(classification_report(y_test,predictions))"
   ]
  },
  {
   "cell_type": "markdown",
   "metadata": {},
   "source": [
    "we can see that there is no much change in having trees 250 and 200 almost both are giving same classification report and roc_auc_score is same"
   ]
  },
  {
   "cell_type": "code",
   "execution_count": 106,
   "metadata": {},
   "outputs": [],
   "source": [
    "import pickle"
   ]
  },
  {
   "cell_type": "code",
   "execution_count": 107,
   "metadata": {},
   "outputs": [],
   "source": [
    "with open('categorical_model.pkl','wb') as f:\n",
    "    pickle.dump(finalmodel,f)"
   ]
  },
  {
   "cell_type": "code",
   "execution_count": 108,
   "metadata": {},
   "outputs": [],
   "source": [
    "with open('categorical_model.pkl','rb') as f:\n",
    "    model_loaded=pickle.load(f)"
   ]
  },
  {
   "cell_type": "code",
   "execution_count": 109,
   "metadata": {},
   "outputs": [],
   "source": [
    "with open('categorical_model_transformations','wb') as f:\n",
    "    pickle.dump(scaler,f)\n",
    "with open('categorical_model_transformations','rb') as f:\n",
    "    trans=pickle.load(f)\n",
    "with open('categorical_model_ord0','wb') as f:\n",
    "    pickle.dump(ord_en,f)\n",
    "with open('categorical_model_ord2','wb') as f:\n",
    "    pickle.dump(ord_2,f)\n",
    "with open('categorical_model_ord3','wb') as f:\n",
    "    pickle.dump(ord_3,f)\n",
    "with open('categorical_model_ord_4','wb') as f:\n",
    "    pickle.dump(ord_4,f)\n",
    "with open('categorical_model_ord_5','wb') as f:\n",
    "    pickle.dump(ord_5,f)\n",
    "    "
   ]
  }
 ],
 "metadata": {
  "kernelspec": {
   "display_name": "Python 3",
   "language": "python",
   "name": "python3"
  },
  "language_info": {
   "codemirror_mode": {
    "name": "ipython",
    "version": 3
   },
   "file_extension": ".py",
   "mimetype": "text/x-python",
   "name": "python",
   "nbconvert_exporter": "python",
   "pygments_lexer": "ipython3",
   "version": "3.7.6"
  }
 },
 "nbformat": 4,
 "nbformat_minor": 4
}
